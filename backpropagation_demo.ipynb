{
  "nbformat": 4,
  "nbformat_minor": 0,
  "metadata": {
    "colab": {
      "name": "backpropagation_demo.ipynb",
      "provenance": [],
      "collapsed_sections": [],
      "authorship_tag": "ABX9TyPZ1y6lqtraQ7ulrTEjuOQU",
      "include_colab_link": true
    },
    "kernelspec": {
      "name": "python3",
      "display_name": "Python 3"
    },
    "language_info": {
      "name": "python"
    }
  },
  "cells": [
    {
      "cell_type": "markdown",
      "metadata": {
        "id": "view-in-github",
        "colab_type": "text"
      },
      "source": [
        "<a href=\"https://colab.research.google.com/github/Steven-Yiran/Bayesian_No-show_Model/blob/main/backpropagation_demo.ipynb\" target=\"_parent\"><img src=\"https://colab.research.google.com/assets/colab-badge.svg\" alt=\"Open In Colab\"/></a>"
      ]
    },
    {
      "cell_type": "code",
      "execution_count": 52,
      "metadata": {
        "colab": {
          "base_uri": "https://localhost:8080/"
        },
        "id": "ce8pdxr5_vyV",
        "outputId": "1475fd29-defd-4ee3-e080-f382bd219042"
      },
      "outputs": [
        {
          "output_type": "stream",
          "name": "stdout",
          "text": [
            "[[0.47372957]\n",
            " [0.54470837]\n",
            " [0.54384086]\n",
            " [0.48895696]]\n"
          ]
        }
      ],
      "source": [
        "import numpy as np\n",
        "\n",
        "def sigmoid(x, deriv=False):\n",
        "  if deriv:\n",
        "    return 1 * (1 - x)\n",
        "  return 1 / (1 + np.exp(-x))\n",
        "\n",
        "X = np.array([ [0, 0, 1], [1, 1, 1], [1, 0, 1], [0, 1, 1] ])\n",
        "Y = np.array([ [0, 1, 1, 0] ]).T\n",
        "\n",
        "np.random.seed(1)\n",
        "\n",
        "weight0 = 2*np.random.random((3, 4)) - 1\n",
        "weight1 = 2*np.random.random((4, 1)) - 1\n",
        "\n",
        "for iter in range(1):\n",
        "\n",
        "  # forward pass\n",
        "  # input layer\n",
        "  input = X # (4, 3)\n",
        "  # hidden layer\n",
        "  hidden1 = sigmoid(np.dot(input, weight0)) # (4, 4)\n",
        "  hidden2 = sigmoid(np.dot(hidden1, weight1)) # (4, 1)\n",
        "\n",
        "  # error\n",
        "  h2error = Y - hidden2 # (4, 1)\n",
        "\n",
        "  # backprop on hidden2\n",
        "  h2delta = h2error * sigmoid(hidden2, True) # (4, 1)\n",
        "  \n",
        "  # error for hidden1\n",
        "  h1error = h2delta.dot(weight1.T) # (4, 4)\n",
        "\n",
        "  # backprop on hidden 1\n",
        "  h1delta = h1error * sigmoid(hidden1, True) # (4, 4)\n",
        "\n",
        "  # update weights\n",
        "  weight1 += hidden1.T.dot(h2delta)\n",
        "\n",
        "  weight0 += input.T.dot(h1delta)\n",
        "\n",
        "\n",
        "print(hidden2)\n"
      ]
    }
  ]
}