{
  "nbformat": 4,
  "nbformat_minor": 0,
  "metadata": {
    "colab": {
      "name": "PGM_Final_Report.ipynb",
      "provenance": [],
      "collapsed_sections": [],
      "authorship_tag": "ABX9TyPXhjE6isJTkrjXXya5O8ds",
      "include_colab_link": true
    },
    "kernelspec": {
      "name": "python3",
      "display_name": "Python 3"
    },
    "language_info": {
      "name": "python"
    },
    "widgets": {
      "application/vnd.jupyter.widget-state+json": {
        "6a3cb1046029453597b9d7152972b2c2": {
          "model_module": "@jupyter-widgets/controls",
          "model_name": "HBoxModel",
          "model_module_version": "1.5.0",
          "state": {
            "_view_name": "HBoxView",
            "_dom_classes": [],
            "_model_name": "HBoxModel",
            "_view_module": "@jupyter-widgets/controls",
            "_model_module_version": "1.5.0",
            "_view_count": null,
            "_view_module_version": "1.5.0",
            "box_style": "",
            "layout": "IPY_MODEL_97db12d9e9a64ee2ae6ff903d71e9218",
            "_model_module": "@jupyter-widgets/controls",
            "children": [
              "IPY_MODEL_419802908997405fad1248871a471b44",
              "IPY_MODEL_c6f7c9039bd04074a07e88d46047cb21",
              "IPY_MODEL_6868369efbed4b28b0cbc9a1f6b3e40a"
            ]
          }
        },
        "97db12d9e9a64ee2ae6ff903d71e9218": {
          "model_module": "@jupyter-widgets/base",
          "model_name": "LayoutModel",
          "model_module_version": "1.2.0",
          "state": {
            "_view_name": "LayoutView",
            "grid_template_rows": null,
            "right": null,
            "justify_content": null,
            "_view_module": "@jupyter-widgets/base",
            "overflow": null,
            "_model_module_version": "1.2.0",
            "_view_count": null,
            "flex_flow": null,
            "width": null,
            "min_width": null,
            "border": null,
            "align_items": null,
            "bottom": null,
            "_model_module": "@jupyter-widgets/base",
            "top": null,
            "grid_column": null,
            "overflow_y": null,
            "overflow_x": null,
            "grid_auto_flow": null,
            "grid_area": null,
            "grid_template_columns": null,
            "flex": null,
            "_model_name": "LayoutModel",
            "justify_items": null,
            "grid_row": null,
            "max_height": null,
            "align_content": null,
            "visibility": null,
            "align_self": null,
            "height": null,
            "min_height": null,
            "padding": null,
            "grid_auto_rows": null,
            "grid_gap": null,
            "max_width": null,
            "order": null,
            "_view_module_version": "1.2.0",
            "grid_template_areas": null,
            "object_position": null,
            "object_fit": null,
            "grid_auto_columns": null,
            "margin": null,
            "display": null,
            "left": null
          }
        },
        "419802908997405fad1248871a471b44": {
          "model_module": "@jupyter-widgets/controls",
          "model_name": "HTMLModel",
          "model_module_version": "1.5.0",
          "state": {
            "_view_name": "HTMLView",
            "style": "IPY_MODEL_e3828083409142209b460ac015051940",
            "_dom_classes": [],
            "description": "",
            "_model_name": "HTMLModel",
            "placeholder": "​",
            "_view_module": "@jupyter-widgets/controls",
            "_model_module_version": "1.5.0",
            "value": "Finding Elimination Order: : 100%",
            "_view_count": null,
            "_view_module_version": "1.5.0",
            "description_tooltip": null,
            "_model_module": "@jupyter-widgets/controls",
            "layout": "IPY_MODEL_5362e1f59aeb45cab34b9992932cb2b6"
          }
        },
        "c6f7c9039bd04074a07e88d46047cb21": {
          "model_module": "@jupyter-widgets/controls",
          "model_name": "FloatProgressModel",
          "model_module_version": "1.5.0",
          "state": {
            "_view_name": "ProgressView",
            "style": "IPY_MODEL_9949b0756a7947ca870b1511f4063e03",
            "_dom_classes": [],
            "description": "",
            "_model_name": "FloatProgressModel",
            "bar_style": "success",
            "max": 5,
            "_view_module": "@jupyter-widgets/controls",
            "_model_module_version": "1.5.0",
            "value": 5,
            "_view_count": null,
            "_view_module_version": "1.5.0",
            "orientation": "horizontal",
            "min": 0,
            "description_tooltip": null,
            "_model_module": "@jupyter-widgets/controls",
            "layout": "IPY_MODEL_5e124607edd943179cd42d954197d7ee"
          }
        },
        "6868369efbed4b28b0cbc9a1f6b3e40a": {
          "model_module": "@jupyter-widgets/controls",
          "model_name": "HTMLModel",
          "model_module_version": "1.5.0",
          "state": {
            "_view_name": "HTMLView",
            "style": "IPY_MODEL_1612b7a986cb4967a43cb026848673a0",
            "_dom_classes": [],
            "description": "",
            "_model_name": "HTMLModel",
            "placeholder": "​",
            "_view_module": "@jupyter-widgets/controls",
            "_model_module_version": "1.5.0",
            "value": " 5/5 [00:00&lt;00:00,  1.48it/s]",
            "_view_count": null,
            "_view_module_version": "1.5.0",
            "description_tooltip": null,
            "_model_module": "@jupyter-widgets/controls",
            "layout": "IPY_MODEL_d7cd726259214d63a621994d7da0dc41"
          }
        },
        "e3828083409142209b460ac015051940": {
          "model_module": "@jupyter-widgets/controls",
          "model_name": "DescriptionStyleModel",
          "model_module_version": "1.5.0",
          "state": {
            "_view_name": "StyleView",
            "_model_name": "DescriptionStyleModel",
            "description_width": "",
            "_view_module": "@jupyter-widgets/base",
            "_model_module_version": "1.5.0",
            "_view_count": null,
            "_view_module_version": "1.2.0",
            "_model_module": "@jupyter-widgets/controls"
          }
        },
        "5362e1f59aeb45cab34b9992932cb2b6": {
          "model_module": "@jupyter-widgets/base",
          "model_name": "LayoutModel",
          "model_module_version": "1.2.0",
          "state": {
            "_view_name": "LayoutView",
            "grid_template_rows": null,
            "right": null,
            "justify_content": null,
            "_view_module": "@jupyter-widgets/base",
            "overflow": null,
            "_model_module_version": "1.2.0",
            "_view_count": null,
            "flex_flow": null,
            "width": null,
            "min_width": null,
            "border": null,
            "align_items": null,
            "bottom": null,
            "_model_module": "@jupyter-widgets/base",
            "top": null,
            "grid_column": null,
            "overflow_y": null,
            "overflow_x": null,
            "grid_auto_flow": null,
            "grid_area": null,
            "grid_template_columns": null,
            "flex": null,
            "_model_name": "LayoutModel",
            "justify_items": null,
            "grid_row": null,
            "max_height": null,
            "align_content": null,
            "visibility": null,
            "align_self": null,
            "height": null,
            "min_height": null,
            "padding": null,
            "grid_auto_rows": null,
            "grid_gap": null,
            "max_width": null,
            "order": null,
            "_view_module_version": "1.2.0",
            "grid_template_areas": null,
            "object_position": null,
            "object_fit": null,
            "grid_auto_columns": null,
            "margin": null,
            "display": null,
            "left": null
          }
        },
        "9949b0756a7947ca870b1511f4063e03": {
          "model_module": "@jupyter-widgets/controls",
          "model_name": "ProgressStyleModel",
          "model_module_version": "1.5.0",
          "state": {
            "_view_name": "StyleView",
            "_model_name": "ProgressStyleModel",
            "description_width": "",
            "_view_module": "@jupyter-widgets/base",
            "_model_module_version": "1.5.0",
            "_view_count": null,
            "_view_module_version": "1.2.0",
            "bar_color": null,
            "_model_module": "@jupyter-widgets/controls"
          }
        },
        "5e124607edd943179cd42d954197d7ee": {
          "model_module": "@jupyter-widgets/base",
          "model_name": "LayoutModel",
          "model_module_version": "1.2.0",
          "state": {
            "_view_name": "LayoutView",
            "grid_template_rows": null,
            "right": null,
            "justify_content": null,
            "_view_module": "@jupyter-widgets/base",
            "overflow": null,
            "_model_module_version": "1.2.0",
            "_view_count": null,
            "flex_flow": null,
            "width": null,
            "min_width": null,
            "border": null,
            "align_items": null,
            "bottom": null,
            "_model_module": "@jupyter-widgets/base",
            "top": null,
            "grid_column": null,
            "overflow_y": null,
            "overflow_x": null,
            "grid_auto_flow": null,
            "grid_area": null,
            "grid_template_columns": null,
            "flex": null,
            "_model_name": "LayoutModel",
            "justify_items": null,
            "grid_row": null,
            "max_height": null,
            "align_content": null,
            "visibility": null,
            "align_self": null,
            "height": null,
            "min_height": null,
            "padding": null,
            "grid_auto_rows": null,
            "grid_gap": null,
            "max_width": null,
            "order": null,
            "_view_module_version": "1.2.0",
            "grid_template_areas": null,
            "object_position": null,
            "object_fit": null,
            "grid_auto_columns": null,
            "margin": null,
            "display": null,
            "left": null
          }
        },
        "1612b7a986cb4967a43cb026848673a0": {
          "model_module": "@jupyter-widgets/controls",
          "model_name": "DescriptionStyleModel",
          "model_module_version": "1.5.0",
          "state": {
            "_view_name": "StyleView",
            "_model_name": "DescriptionStyleModel",
            "description_width": "",
            "_view_module": "@jupyter-widgets/base",
            "_model_module_version": "1.5.0",
            "_view_count": null,
            "_view_module_version": "1.2.0",
            "_model_module": "@jupyter-widgets/controls"
          }
        },
        "d7cd726259214d63a621994d7da0dc41": {
          "model_module": "@jupyter-widgets/base",
          "model_name": "LayoutModel",
          "model_module_version": "1.2.0",
          "state": {
            "_view_name": "LayoutView",
            "grid_template_rows": null,
            "right": null,
            "justify_content": null,
            "_view_module": "@jupyter-widgets/base",
            "overflow": null,
            "_model_module_version": "1.2.0",
            "_view_count": null,
            "flex_flow": null,
            "width": null,
            "min_width": null,
            "border": null,
            "align_items": null,
            "bottom": null,
            "_model_module": "@jupyter-widgets/base",
            "top": null,
            "grid_column": null,
            "overflow_y": null,
            "overflow_x": null,
            "grid_auto_flow": null,
            "grid_area": null,
            "grid_template_columns": null,
            "flex": null,
            "_model_name": "LayoutModel",
            "justify_items": null,
            "grid_row": null,
            "max_height": null,
            "align_content": null,
            "visibility": null,
            "align_self": null,
            "height": null,
            "min_height": null,
            "padding": null,
            "grid_auto_rows": null,
            "grid_gap": null,
            "max_width": null,
            "order": null,
            "_view_module_version": "1.2.0",
            "grid_template_areas": null,
            "object_position": null,
            "object_fit": null,
            "grid_auto_columns": null,
            "margin": null,
            "display": null,
            "left": null
          }
        },
        "81dad6bb64bc411cb99d6c9541c685e5": {
          "model_module": "@jupyter-widgets/controls",
          "model_name": "HBoxModel",
          "model_module_version": "1.5.0",
          "state": {
            "_view_name": "HBoxView",
            "_dom_classes": [],
            "_model_name": "HBoxModel",
            "_view_module": "@jupyter-widgets/controls",
            "_model_module_version": "1.5.0",
            "_view_count": null,
            "_view_module_version": "1.5.0",
            "box_style": "",
            "layout": "IPY_MODEL_5742af7b71554efa93b2f89c9c73821e",
            "_model_module": "@jupyter-widgets/controls",
            "children": [
              "IPY_MODEL_63ca198e3f6740adaa53ed6d7e36d772",
              "IPY_MODEL_10f489d4c4f74111bea141622851d1c2",
              "IPY_MODEL_417a06fc10884b1d9f6d0fd8dbcc496d"
            ]
          }
        },
        "5742af7b71554efa93b2f89c9c73821e": {
          "model_module": "@jupyter-widgets/base",
          "model_name": "LayoutModel",
          "model_module_version": "1.2.0",
          "state": {
            "_view_name": "LayoutView",
            "grid_template_rows": null,
            "right": null,
            "justify_content": null,
            "_view_module": "@jupyter-widgets/base",
            "overflow": null,
            "_model_module_version": "1.2.0",
            "_view_count": null,
            "flex_flow": null,
            "width": null,
            "min_width": null,
            "border": null,
            "align_items": null,
            "bottom": null,
            "_model_module": "@jupyter-widgets/base",
            "top": null,
            "grid_column": null,
            "overflow_y": null,
            "overflow_x": null,
            "grid_auto_flow": null,
            "grid_area": null,
            "grid_template_columns": null,
            "flex": null,
            "_model_name": "LayoutModel",
            "justify_items": null,
            "grid_row": null,
            "max_height": null,
            "align_content": null,
            "visibility": null,
            "align_self": null,
            "height": null,
            "min_height": null,
            "padding": null,
            "grid_auto_rows": null,
            "grid_gap": null,
            "max_width": null,
            "order": null,
            "_view_module_version": "1.2.0",
            "grid_template_areas": null,
            "object_position": null,
            "object_fit": null,
            "grid_auto_columns": null,
            "margin": null,
            "display": null,
            "left": null
          }
        },
        "63ca198e3f6740adaa53ed6d7e36d772": {
          "model_module": "@jupyter-widgets/controls",
          "model_name": "HTMLModel",
          "model_module_version": "1.5.0",
          "state": {
            "_view_name": "HTMLView",
            "style": "IPY_MODEL_4f68a94f136c49c5b3a81e525914242c",
            "_dom_classes": [],
            "description": "",
            "_model_name": "HTMLModel",
            "placeholder": "​",
            "_view_module": "@jupyter-widgets/controls",
            "_model_module_version": "1.5.0",
            "value": "Eliminating: Prior appointment: 100%",
            "_view_count": null,
            "_view_module_version": "1.5.0",
            "description_tooltip": null,
            "_model_module": "@jupyter-widgets/controls",
            "layout": "IPY_MODEL_e70c01c66ad84f42856cb7a27cc574c4"
          }
        },
        "10f489d4c4f74111bea141622851d1c2": {
          "model_module": "@jupyter-widgets/controls",
          "model_name": "FloatProgressModel",
          "model_module_version": "1.5.0",
          "state": {
            "_view_name": "ProgressView",
            "style": "IPY_MODEL_a4e96f69234b4feda3aa28856cb37e56",
            "_dom_classes": [],
            "description": "",
            "_model_name": "FloatProgressModel",
            "bar_style": "success",
            "max": 5,
            "_view_module": "@jupyter-widgets/controls",
            "_model_module_version": "1.5.0",
            "value": 5,
            "_view_count": null,
            "_view_module_version": "1.5.0",
            "orientation": "horizontal",
            "min": 0,
            "description_tooltip": null,
            "_model_module": "@jupyter-widgets/controls",
            "layout": "IPY_MODEL_a7e0b6ae9f124abfa3f3264bc00c0286"
          }
        },
        "417a06fc10884b1d9f6d0fd8dbcc496d": {
          "model_module": "@jupyter-widgets/controls",
          "model_name": "HTMLModel",
          "model_module_version": "1.5.0",
          "state": {
            "_view_name": "HTMLView",
            "style": "IPY_MODEL_8d31508d8a4c488584dd29633514e423",
            "_dom_classes": [],
            "description": "",
            "_model_name": "HTMLModel",
            "placeholder": "​",
            "_view_module": "@jupyter-widgets/controls",
            "_model_module_version": "1.5.0",
            "value": " 5/5 [00:00&lt;00:00, 58.74it/s]",
            "_view_count": null,
            "_view_module_version": "1.5.0",
            "description_tooltip": null,
            "_model_module": "@jupyter-widgets/controls",
            "layout": "IPY_MODEL_7eec87d6fa8d4c19bb1d64f9f5f47874"
          }
        },
        "4f68a94f136c49c5b3a81e525914242c": {
          "model_module": "@jupyter-widgets/controls",
          "model_name": "DescriptionStyleModel",
          "model_module_version": "1.5.0",
          "state": {
            "_view_name": "StyleView",
            "_model_name": "DescriptionStyleModel",
            "description_width": "",
            "_view_module": "@jupyter-widgets/base",
            "_model_module_version": "1.5.0",
            "_view_count": null,
            "_view_module_version": "1.2.0",
            "_model_module": "@jupyter-widgets/controls"
          }
        },
        "e70c01c66ad84f42856cb7a27cc574c4": {
          "model_module": "@jupyter-widgets/base",
          "model_name": "LayoutModel",
          "model_module_version": "1.2.0",
          "state": {
            "_view_name": "LayoutView",
            "grid_template_rows": null,
            "right": null,
            "justify_content": null,
            "_view_module": "@jupyter-widgets/base",
            "overflow": null,
            "_model_module_version": "1.2.0",
            "_view_count": null,
            "flex_flow": null,
            "width": null,
            "min_width": null,
            "border": null,
            "align_items": null,
            "bottom": null,
            "_model_module": "@jupyter-widgets/base",
            "top": null,
            "grid_column": null,
            "overflow_y": null,
            "overflow_x": null,
            "grid_auto_flow": null,
            "grid_area": null,
            "grid_template_columns": null,
            "flex": null,
            "_model_name": "LayoutModel",
            "justify_items": null,
            "grid_row": null,
            "max_height": null,
            "align_content": null,
            "visibility": null,
            "align_self": null,
            "height": null,
            "min_height": null,
            "padding": null,
            "grid_auto_rows": null,
            "grid_gap": null,
            "max_width": null,
            "order": null,
            "_view_module_version": "1.2.0",
            "grid_template_areas": null,
            "object_position": null,
            "object_fit": null,
            "grid_auto_columns": null,
            "margin": null,
            "display": null,
            "left": null
          }
        },
        "a4e96f69234b4feda3aa28856cb37e56": {
          "model_module": "@jupyter-widgets/controls",
          "model_name": "ProgressStyleModel",
          "model_module_version": "1.5.0",
          "state": {
            "_view_name": "StyleView",
            "_model_name": "ProgressStyleModel",
            "description_width": "",
            "_view_module": "@jupyter-widgets/base",
            "_model_module_version": "1.5.0",
            "_view_count": null,
            "_view_module_version": "1.2.0",
            "bar_color": null,
            "_model_module": "@jupyter-widgets/controls"
          }
        },
        "a7e0b6ae9f124abfa3f3264bc00c0286": {
          "model_module": "@jupyter-widgets/base",
          "model_name": "LayoutModel",
          "model_module_version": "1.2.0",
          "state": {
            "_view_name": "LayoutView",
            "grid_template_rows": null,
            "right": null,
            "justify_content": null,
            "_view_module": "@jupyter-widgets/base",
            "overflow": null,
            "_model_module_version": "1.2.0",
            "_view_count": null,
            "flex_flow": null,
            "width": null,
            "min_width": null,
            "border": null,
            "align_items": null,
            "bottom": null,
            "_model_module": "@jupyter-widgets/base",
            "top": null,
            "grid_column": null,
            "overflow_y": null,
            "overflow_x": null,
            "grid_auto_flow": null,
            "grid_area": null,
            "grid_template_columns": null,
            "flex": null,
            "_model_name": "LayoutModel",
            "justify_items": null,
            "grid_row": null,
            "max_height": null,
            "align_content": null,
            "visibility": null,
            "align_self": null,
            "height": null,
            "min_height": null,
            "padding": null,
            "grid_auto_rows": null,
            "grid_gap": null,
            "max_width": null,
            "order": null,
            "_view_module_version": "1.2.0",
            "grid_template_areas": null,
            "object_position": null,
            "object_fit": null,
            "grid_auto_columns": null,
            "margin": null,
            "display": null,
            "left": null
          }
        },
        "8d31508d8a4c488584dd29633514e423": {
          "model_module": "@jupyter-widgets/controls",
          "model_name": "DescriptionStyleModel",
          "model_module_version": "1.5.0",
          "state": {
            "_view_name": "StyleView",
            "_model_name": "DescriptionStyleModel",
            "description_width": "",
            "_view_module": "@jupyter-widgets/base",
            "_model_module_version": "1.5.0",
            "_view_count": null,
            "_view_module_version": "1.2.0",
            "_model_module": "@jupyter-widgets/controls"
          }
        },
        "7eec87d6fa8d4c19bb1d64f9f5f47874": {
          "model_module": "@jupyter-widgets/base",
          "model_name": "LayoutModel",
          "model_module_version": "1.2.0",
          "state": {
            "_view_name": "LayoutView",
            "grid_template_rows": null,
            "right": null,
            "justify_content": null,
            "_view_module": "@jupyter-widgets/base",
            "overflow": null,
            "_model_module_version": "1.2.0",
            "_view_count": null,
            "flex_flow": null,
            "width": null,
            "min_width": null,
            "border": null,
            "align_items": null,
            "bottom": null,
            "_model_module": "@jupyter-widgets/base",
            "top": null,
            "grid_column": null,
            "overflow_y": null,
            "overflow_x": null,
            "grid_auto_flow": null,
            "grid_area": null,
            "grid_template_columns": null,
            "flex": null,
            "_model_name": "LayoutModel",
            "justify_items": null,
            "grid_row": null,
            "max_height": null,
            "align_content": null,
            "visibility": null,
            "align_self": null,
            "height": null,
            "min_height": null,
            "padding": null,
            "grid_auto_rows": null,
            "grid_gap": null,
            "max_width": null,
            "order": null,
            "_view_module_version": "1.2.0",
            "grid_template_areas": null,
            "object_position": null,
            "object_fit": null,
            "grid_auto_columns": null,
            "margin": null,
            "display": null,
            "left": null
          }
        },
        "817839a56e9249118f71bcf626970c9f": {
          "model_module": "@jupyter-widgets/controls",
          "model_name": "HBoxModel",
          "model_module_version": "1.5.0",
          "state": {
            "_view_name": "HBoxView",
            "_dom_classes": [],
            "_model_name": "HBoxModel",
            "_view_module": "@jupyter-widgets/controls",
            "_model_module_version": "1.5.0",
            "_view_count": null,
            "_view_module_version": "1.5.0",
            "box_style": "",
            "layout": "IPY_MODEL_768c504cfb0241de9873911cd72df079",
            "_model_module": "@jupyter-widgets/controls",
            "children": [
              "IPY_MODEL_d24e110ed75b44e0a3375832cc4bb791",
              "IPY_MODEL_a79dccbe8d2c4b08b221f4587c70a3d7",
              "IPY_MODEL_d52cbced825e40f8b3e8b691882b73b5"
            ]
          }
        },
        "768c504cfb0241de9873911cd72df079": {
          "model_module": "@jupyter-widgets/base",
          "model_name": "LayoutModel",
          "model_module_version": "1.2.0",
          "state": {
            "_view_name": "LayoutView",
            "grid_template_rows": null,
            "right": null,
            "justify_content": null,
            "_view_module": "@jupyter-widgets/base",
            "overflow": null,
            "_model_module_version": "1.2.0",
            "_view_count": null,
            "flex_flow": null,
            "width": null,
            "min_width": null,
            "border": null,
            "align_items": null,
            "bottom": null,
            "_model_module": "@jupyter-widgets/base",
            "top": null,
            "grid_column": null,
            "overflow_y": null,
            "overflow_x": null,
            "grid_auto_flow": null,
            "grid_area": null,
            "grid_template_columns": null,
            "flex": null,
            "_model_name": "LayoutModel",
            "justify_items": null,
            "grid_row": null,
            "max_height": null,
            "align_content": null,
            "visibility": null,
            "align_self": null,
            "height": null,
            "min_height": null,
            "padding": null,
            "grid_auto_rows": null,
            "grid_gap": null,
            "max_width": null,
            "order": null,
            "_view_module_version": "1.2.0",
            "grid_template_areas": null,
            "object_position": null,
            "object_fit": null,
            "grid_auto_columns": null,
            "margin": null,
            "display": null,
            "left": null
          }
        },
        "d24e110ed75b44e0a3375832cc4bb791": {
          "model_module": "@jupyter-widgets/controls",
          "model_name": "HTMLModel",
          "model_module_version": "1.5.0",
          "state": {
            "_view_name": "HTMLView",
            "style": "IPY_MODEL_1cd783dc3d8046829609bfc42ebe1f19",
            "_dom_classes": [],
            "description": "",
            "_model_name": "HTMLModel",
            "placeholder": "​",
            "_view_module": "@jupyter-widgets/controls",
            "_model_module_version": "1.5.0",
            "value": "Finding Elimination Order: : 100%",
            "_view_count": null,
            "_view_module_version": "1.5.0",
            "description_tooltip": null,
            "_model_module": "@jupyter-widgets/controls",
            "layout": "IPY_MODEL_a92f0fd7fe8b45e6aeb2b02ff0335fdc"
          }
        },
        "a79dccbe8d2c4b08b221f4587c70a3d7": {
          "model_module": "@jupyter-widgets/controls",
          "model_name": "FloatProgressModel",
          "model_module_version": "1.5.0",
          "state": {
            "_view_name": "ProgressView",
            "style": "IPY_MODEL_e54df0b286314d29aba5ac53ba04617c",
            "_dom_classes": [],
            "description": "",
            "_model_name": "FloatProgressModel",
            "bar_style": "success",
            "max": 5,
            "_view_module": "@jupyter-widgets/controls",
            "_model_module_version": "1.5.0",
            "value": 5,
            "_view_count": null,
            "_view_module_version": "1.5.0",
            "orientation": "horizontal",
            "min": 0,
            "description_tooltip": null,
            "_model_module": "@jupyter-widgets/controls",
            "layout": "IPY_MODEL_7bfe97c6fc7249b68cf703488695a410"
          }
        },
        "d52cbced825e40f8b3e8b691882b73b5": {
          "model_module": "@jupyter-widgets/controls",
          "model_name": "HTMLModel",
          "model_module_version": "1.5.0",
          "state": {
            "_view_name": "HTMLView",
            "style": "IPY_MODEL_cbf4d4b472c94300a2ee14a396c94678",
            "_dom_classes": [],
            "description": "",
            "_model_name": "HTMLModel",
            "placeholder": "​",
            "_view_module": "@jupyter-widgets/controls",
            "_model_module_version": "1.5.0",
            "value": " 5/5 [00:00&lt;00:00, 41.53it/s]",
            "_view_count": null,
            "_view_module_version": "1.5.0",
            "description_tooltip": null,
            "_model_module": "@jupyter-widgets/controls",
            "layout": "IPY_MODEL_affe898efb804e82b2438aff2c097257"
          }
        },
        "1cd783dc3d8046829609bfc42ebe1f19": {
          "model_module": "@jupyter-widgets/controls",
          "model_name": "DescriptionStyleModel",
          "model_module_version": "1.5.0",
          "state": {
            "_view_name": "StyleView",
            "_model_name": "DescriptionStyleModel",
            "description_width": "",
            "_view_module": "@jupyter-widgets/base",
            "_model_module_version": "1.5.0",
            "_view_count": null,
            "_view_module_version": "1.2.0",
            "_model_module": "@jupyter-widgets/controls"
          }
        },
        "a92f0fd7fe8b45e6aeb2b02ff0335fdc": {
          "model_module": "@jupyter-widgets/base",
          "model_name": "LayoutModel",
          "model_module_version": "1.2.0",
          "state": {
            "_view_name": "LayoutView",
            "grid_template_rows": null,
            "right": null,
            "justify_content": null,
            "_view_module": "@jupyter-widgets/base",
            "overflow": null,
            "_model_module_version": "1.2.0",
            "_view_count": null,
            "flex_flow": null,
            "width": null,
            "min_width": null,
            "border": null,
            "align_items": null,
            "bottom": null,
            "_model_module": "@jupyter-widgets/base",
            "top": null,
            "grid_column": null,
            "overflow_y": null,
            "overflow_x": null,
            "grid_auto_flow": null,
            "grid_area": null,
            "grid_template_columns": null,
            "flex": null,
            "_model_name": "LayoutModel",
            "justify_items": null,
            "grid_row": null,
            "max_height": null,
            "align_content": null,
            "visibility": null,
            "align_self": null,
            "height": null,
            "min_height": null,
            "padding": null,
            "grid_auto_rows": null,
            "grid_gap": null,
            "max_width": null,
            "order": null,
            "_view_module_version": "1.2.0",
            "grid_template_areas": null,
            "object_position": null,
            "object_fit": null,
            "grid_auto_columns": null,
            "margin": null,
            "display": null,
            "left": null
          }
        },
        "e54df0b286314d29aba5ac53ba04617c": {
          "model_module": "@jupyter-widgets/controls",
          "model_name": "ProgressStyleModel",
          "model_module_version": "1.5.0",
          "state": {
            "_view_name": "StyleView",
            "_model_name": "ProgressStyleModel",
            "description_width": "",
            "_view_module": "@jupyter-widgets/base",
            "_model_module_version": "1.5.0",
            "_view_count": null,
            "_view_module_version": "1.2.0",
            "bar_color": null,
            "_model_module": "@jupyter-widgets/controls"
          }
        },
        "7bfe97c6fc7249b68cf703488695a410": {
          "model_module": "@jupyter-widgets/base",
          "model_name": "LayoutModel",
          "model_module_version": "1.2.0",
          "state": {
            "_view_name": "LayoutView",
            "grid_template_rows": null,
            "right": null,
            "justify_content": null,
            "_view_module": "@jupyter-widgets/base",
            "overflow": null,
            "_model_module_version": "1.2.0",
            "_view_count": null,
            "flex_flow": null,
            "width": null,
            "min_width": null,
            "border": null,
            "align_items": null,
            "bottom": null,
            "_model_module": "@jupyter-widgets/base",
            "top": null,
            "grid_column": null,
            "overflow_y": null,
            "overflow_x": null,
            "grid_auto_flow": null,
            "grid_area": null,
            "grid_template_columns": null,
            "flex": null,
            "_model_name": "LayoutModel",
            "justify_items": null,
            "grid_row": null,
            "max_height": null,
            "align_content": null,
            "visibility": null,
            "align_self": null,
            "height": null,
            "min_height": null,
            "padding": null,
            "grid_auto_rows": null,
            "grid_gap": null,
            "max_width": null,
            "order": null,
            "_view_module_version": "1.2.0",
            "grid_template_areas": null,
            "object_position": null,
            "object_fit": null,
            "grid_auto_columns": null,
            "margin": null,
            "display": null,
            "left": null
          }
        },
        "cbf4d4b472c94300a2ee14a396c94678": {
          "model_module": "@jupyter-widgets/controls",
          "model_name": "DescriptionStyleModel",
          "model_module_version": "1.5.0",
          "state": {
            "_view_name": "StyleView",
            "_model_name": "DescriptionStyleModel",
            "description_width": "",
            "_view_module": "@jupyter-widgets/base",
            "_model_module_version": "1.5.0",
            "_view_count": null,
            "_view_module_version": "1.2.0",
            "_model_module": "@jupyter-widgets/controls"
          }
        },
        "affe898efb804e82b2438aff2c097257": {
          "model_module": "@jupyter-widgets/base",
          "model_name": "LayoutModel",
          "model_module_version": "1.2.0",
          "state": {
            "_view_name": "LayoutView",
            "grid_template_rows": null,
            "right": null,
            "justify_content": null,
            "_view_module": "@jupyter-widgets/base",
            "overflow": null,
            "_model_module_version": "1.2.0",
            "_view_count": null,
            "flex_flow": null,
            "width": null,
            "min_width": null,
            "border": null,
            "align_items": null,
            "bottom": null,
            "_model_module": "@jupyter-widgets/base",
            "top": null,
            "grid_column": null,
            "overflow_y": null,
            "overflow_x": null,
            "grid_auto_flow": null,
            "grid_area": null,
            "grid_template_columns": null,
            "flex": null,
            "_model_name": "LayoutModel",
            "justify_items": null,
            "grid_row": null,
            "max_height": null,
            "align_content": null,
            "visibility": null,
            "align_self": null,
            "height": null,
            "min_height": null,
            "padding": null,
            "grid_auto_rows": null,
            "grid_gap": null,
            "max_width": null,
            "order": null,
            "_view_module_version": "1.2.0",
            "grid_template_areas": null,
            "object_position": null,
            "object_fit": null,
            "grid_auto_columns": null,
            "margin": null,
            "display": null,
            "left": null
          }
        },
        "02c199a7ccc14fdc85b618744410c0cc": {
          "model_module": "@jupyter-widgets/controls",
          "model_name": "HBoxModel",
          "model_module_version": "1.5.0",
          "state": {
            "_view_name": "HBoxView",
            "_dom_classes": [],
            "_model_name": "HBoxModel",
            "_view_module": "@jupyter-widgets/controls",
            "_model_module_version": "1.5.0",
            "_view_count": null,
            "_view_module_version": "1.5.0",
            "box_style": "",
            "layout": "IPY_MODEL_e759c7d684c9491399be6333a1abf1fa",
            "_model_module": "@jupyter-widgets/controls",
            "children": [
              "IPY_MODEL_ca7f9fe30e9f4f6cac90b21c034b99f6",
              "IPY_MODEL_c02da3cc695b42649eae28d788a25b6c",
              "IPY_MODEL_9ab3f8ebfd324ca0abbcc866123609b7"
            ]
          }
        },
        "e759c7d684c9491399be6333a1abf1fa": {
          "model_module": "@jupyter-widgets/base",
          "model_name": "LayoutModel",
          "model_module_version": "1.2.0",
          "state": {
            "_view_name": "LayoutView",
            "grid_template_rows": null,
            "right": null,
            "justify_content": null,
            "_view_module": "@jupyter-widgets/base",
            "overflow": null,
            "_model_module_version": "1.2.0",
            "_view_count": null,
            "flex_flow": null,
            "width": null,
            "min_width": null,
            "border": null,
            "align_items": null,
            "bottom": null,
            "_model_module": "@jupyter-widgets/base",
            "top": null,
            "grid_column": null,
            "overflow_y": null,
            "overflow_x": null,
            "grid_auto_flow": null,
            "grid_area": null,
            "grid_template_columns": null,
            "flex": null,
            "_model_name": "LayoutModel",
            "justify_items": null,
            "grid_row": null,
            "max_height": null,
            "align_content": null,
            "visibility": null,
            "align_self": null,
            "height": null,
            "min_height": null,
            "padding": null,
            "grid_auto_rows": null,
            "grid_gap": null,
            "max_width": null,
            "order": null,
            "_view_module_version": "1.2.0",
            "grid_template_areas": null,
            "object_position": null,
            "object_fit": null,
            "grid_auto_columns": null,
            "margin": null,
            "display": null,
            "left": null
          }
        },
        "ca7f9fe30e9f4f6cac90b21c034b99f6": {
          "model_module": "@jupyter-widgets/controls",
          "model_name": "HTMLModel",
          "model_module_version": "1.5.0",
          "state": {
            "_view_name": "HTMLView",
            "style": "IPY_MODEL_c00cd435782f4592b517692317b5e9cd",
            "_dom_classes": [],
            "description": "",
            "_model_name": "HTMLModel",
            "placeholder": "​",
            "_view_module": "@jupyter-widgets/controls",
            "_model_module_version": "1.5.0",
            "value": "Eliminating: Prior appointment: 100%",
            "_view_count": null,
            "_view_module_version": "1.5.0",
            "description_tooltip": null,
            "_model_module": "@jupyter-widgets/controls",
            "layout": "IPY_MODEL_f37b05e8f1c64f319fcc4565a62ff6ba"
          }
        },
        "c02da3cc695b42649eae28d788a25b6c": {
          "model_module": "@jupyter-widgets/controls",
          "model_name": "FloatProgressModel",
          "model_module_version": "1.5.0",
          "state": {
            "_view_name": "ProgressView",
            "style": "IPY_MODEL_5e3845cc292b48abab68b0eb0312dee9",
            "_dom_classes": [],
            "description": "",
            "_model_name": "FloatProgressModel",
            "bar_style": "success",
            "max": 5,
            "_view_module": "@jupyter-widgets/controls",
            "_model_module_version": "1.5.0",
            "value": 5,
            "_view_count": null,
            "_view_module_version": "1.5.0",
            "orientation": "horizontal",
            "min": 0,
            "description_tooltip": null,
            "_model_module": "@jupyter-widgets/controls",
            "layout": "IPY_MODEL_c91d5cae28e647c0a09444de05a17746"
          }
        },
        "9ab3f8ebfd324ca0abbcc866123609b7": {
          "model_module": "@jupyter-widgets/controls",
          "model_name": "HTMLModel",
          "model_module_version": "1.5.0",
          "state": {
            "_view_name": "HTMLView",
            "style": "IPY_MODEL_10a7addff02c4bb8bd4ee5bff21b681c",
            "_dom_classes": [],
            "description": "",
            "_model_name": "HTMLModel",
            "placeholder": "​",
            "_view_module": "@jupyter-widgets/controls",
            "_model_module_version": "1.5.0",
            "value": " 5/5 [00:00&lt;00:00, 52.20it/s]",
            "_view_count": null,
            "_view_module_version": "1.5.0",
            "description_tooltip": null,
            "_model_module": "@jupyter-widgets/controls",
            "layout": "IPY_MODEL_ba2c263401bd4a92b8189afb3e244e21"
          }
        },
        "c00cd435782f4592b517692317b5e9cd": {
          "model_module": "@jupyter-widgets/controls",
          "model_name": "DescriptionStyleModel",
          "model_module_version": "1.5.0",
          "state": {
            "_view_name": "StyleView",
            "_model_name": "DescriptionStyleModel",
            "description_width": "",
            "_view_module": "@jupyter-widgets/base",
            "_model_module_version": "1.5.0",
            "_view_count": null,
            "_view_module_version": "1.2.0",
            "_model_module": "@jupyter-widgets/controls"
          }
        },
        "f37b05e8f1c64f319fcc4565a62ff6ba": {
          "model_module": "@jupyter-widgets/base",
          "model_name": "LayoutModel",
          "model_module_version": "1.2.0",
          "state": {
            "_view_name": "LayoutView",
            "grid_template_rows": null,
            "right": null,
            "justify_content": null,
            "_view_module": "@jupyter-widgets/base",
            "overflow": null,
            "_model_module_version": "1.2.0",
            "_view_count": null,
            "flex_flow": null,
            "width": null,
            "min_width": null,
            "border": null,
            "align_items": null,
            "bottom": null,
            "_model_module": "@jupyter-widgets/base",
            "top": null,
            "grid_column": null,
            "overflow_y": null,
            "overflow_x": null,
            "grid_auto_flow": null,
            "grid_area": null,
            "grid_template_columns": null,
            "flex": null,
            "_model_name": "LayoutModel",
            "justify_items": null,
            "grid_row": null,
            "max_height": null,
            "align_content": null,
            "visibility": null,
            "align_self": null,
            "height": null,
            "min_height": null,
            "padding": null,
            "grid_auto_rows": null,
            "grid_gap": null,
            "max_width": null,
            "order": null,
            "_view_module_version": "1.2.0",
            "grid_template_areas": null,
            "object_position": null,
            "object_fit": null,
            "grid_auto_columns": null,
            "margin": null,
            "display": null,
            "left": null
          }
        },
        "5e3845cc292b48abab68b0eb0312dee9": {
          "model_module": "@jupyter-widgets/controls",
          "model_name": "ProgressStyleModel",
          "model_module_version": "1.5.0",
          "state": {
            "_view_name": "StyleView",
            "_model_name": "ProgressStyleModel",
            "description_width": "",
            "_view_module": "@jupyter-widgets/base",
            "_model_module_version": "1.5.0",
            "_view_count": null,
            "_view_module_version": "1.2.0",
            "bar_color": null,
            "_model_module": "@jupyter-widgets/controls"
          }
        },
        "c91d5cae28e647c0a09444de05a17746": {
          "model_module": "@jupyter-widgets/base",
          "model_name": "LayoutModel",
          "model_module_version": "1.2.0",
          "state": {
            "_view_name": "LayoutView",
            "grid_template_rows": null,
            "right": null,
            "justify_content": null,
            "_view_module": "@jupyter-widgets/base",
            "overflow": null,
            "_model_module_version": "1.2.0",
            "_view_count": null,
            "flex_flow": null,
            "width": null,
            "min_width": null,
            "border": null,
            "align_items": null,
            "bottom": null,
            "_model_module": "@jupyter-widgets/base",
            "top": null,
            "grid_column": null,
            "overflow_y": null,
            "overflow_x": null,
            "grid_auto_flow": null,
            "grid_area": null,
            "grid_template_columns": null,
            "flex": null,
            "_model_name": "LayoutModel",
            "justify_items": null,
            "grid_row": null,
            "max_height": null,
            "align_content": null,
            "visibility": null,
            "align_self": null,
            "height": null,
            "min_height": null,
            "padding": null,
            "grid_auto_rows": null,
            "grid_gap": null,
            "max_width": null,
            "order": null,
            "_view_module_version": "1.2.0",
            "grid_template_areas": null,
            "object_position": null,
            "object_fit": null,
            "grid_auto_columns": null,
            "margin": null,
            "display": null,
            "left": null
          }
        },
        "10a7addff02c4bb8bd4ee5bff21b681c": {
          "model_module": "@jupyter-widgets/controls",
          "model_name": "DescriptionStyleModel",
          "model_module_version": "1.5.0",
          "state": {
            "_view_name": "StyleView",
            "_model_name": "DescriptionStyleModel",
            "description_width": "",
            "_view_module": "@jupyter-widgets/base",
            "_model_module_version": "1.5.0",
            "_view_count": null,
            "_view_module_version": "1.2.0",
            "_model_module": "@jupyter-widgets/controls"
          }
        },
        "ba2c263401bd4a92b8189afb3e244e21": {
          "model_module": "@jupyter-widgets/base",
          "model_name": "LayoutModel",
          "model_module_version": "1.2.0",
          "state": {
            "_view_name": "LayoutView",
            "grid_template_rows": null,
            "right": null,
            "justify_content": null,
            "_view_module": "@jupyter-widgets/base",
            "overflow": null,
            "_model_module_version": "1.2.0",
            "_view_count": null,
            "flex_flow": null,
            "width": null,
            "min_width": null,
            "border": null,
            "align_items": null,
            "bottom": null,
            "_model_module": "@jupyter-widgets/base",
            "top": null,
            "grid_column": null,
            "overflow_y": null,
            "overflow_x": null,
            "grid_auto_flow": null,
            "grid_area": null,
            "grid_template_columns": null,
            "flex": null,
            "_model_name": "LayoutModel",
            "justify_items": null,
            "grid_row": null,
            "max_height": null,
            "align_content": null,
            "visibility": null,
            "align_self": null,
            "height": null,
            "min_height": null,
            "padding": null,
            "grid_auto_rows": null,
            "grid_gap": null,
            "max_width": null,
            "order": null,
            "_view_module_version": "1.2.0",
            "grid_template_areas": null,
            "object_position": null,
            "object_fit": null,
            "grid_auto_columns": null,
            "margin": null,
            "display": null,
            "left": null
          }
        },
        "846a81d0a50342cf96ceecd2b0fe4397": {
          "model_module": "@jupyter-widgets/controls",
          "model_name": "HBoxModel",
          "model_module_version": "1.5.0",
          "state": {
            "_view_name": "HBoxView",
            "_dom_classes": [],
            "_model_name": "HBoxModel",
            "_view_module": "@jupyter-widgets/controls",
            "_model_module_version": "1.5.0",
            "_view_count": null,
            "_view_module_version": "1.5.0",
            "box_style": "",
            "layout": "IPY_MODEL_8cd9d907e39a4cb9811941b9893106a6",
            "_model_module": "@jupyter-widgets/controls",
            "children": [
              "IPY_MODEL_b5996dcc03f4409aae68cb4f67a147e9",
              "IPY_MODEL_c544a671d0064c7985c89b19a091de14",
              "IPY_MODEL_ecf95dcc18634ec6b8c8e390998d41bc"
            ]
          }
        },
        "8cd9d907e39a4cb9811941b9893106a6": {
          "model_module": "@jupyter-widgets/base",
          "model_name": "LayoutModel",
          "model_module_version": "1.2.0",
          "state": {
            "_view_name": "LayoutView",
            "grid_template_rows": null,
            "right": null,
            "justify_content": null,
            "_view_module": "@jupyter-widgets/base",
            "overflow": null,
            "_model_module_version": "1.2.0",
            "_view_count": null,
            "flex_flow": null,
            "width": null,
            "min_width": null,
            "border": null,
            "align_items": null,
            "bottom": null,
            "_model_module": "@jupyter-widgets/base",
            "top": null,
            "grid_column": null,
            "overflow_y": null,
            "overflow_x": null,
            "grid_auto_flow": null,
            "grid_area": null,
            "grid_template_columns": null,
            "flex": null,
            "_model_name": "LayoutModel",
            "justify_items": null,
            "grid_row": null,
            "max_height": null,
            "align_content": null,
            "visibility": null,
            "align_self": null,
            "height": null,
            "min_height": null,
            "padding": null,
            "grid_auto_rows": null,
            "grid_gap": null,
            "max_width": null,
            "order": null,
            "_view_module_version": "1.2.0",
            "grid_template_areas": null,
            "object_position": null,
            "object_fit": null,
            "grid_auto_columns": null,
            "margin": null,
            "display": null,
            "left": null
          }
        },
        "b5996dcc03f4409aae68cb4f67a147e9": {
          "model_module": "@jupyter-widgets/controls",
          "model_name": "HTMLModel",
          "model_module_version": "1.5.0",
          "state": {
            "_view_name": "HTMLView",
            "style": "IPY_MODEL_854a55c0c3a243aa8bc5b247b840e68f",
            "_dom_classes": [],
            "description": "",
            "_model_name": "HTMLModel",
            "placeholder": "​",
            "_view_module": "@jupyter-widgets/controls",
            "_model_module_version": "1.5.0",
            "value": "Generating for node: No-Show: 100%",
            "_view_count": null,
            "_view_module_version": "1.5.0",
            "description_tooltip": null,
            "_model_module": "@jupyter-widgets/controls",
            "layout": "IPY_MODEL_1463338537544cc08b8f738ea9ed1d09"
          }
        },
        "c544a671d0064c7985c89b19a091de14": {
          "model_module": "@jupyter-widgets/controls",
          "model_name": "FloatProgressModel",
          "model_module_version": "1.5.0",
          "state": {
            "_view_name": "ProgressView",
            "style": "IPY_MODEL_076d153e3d084642b50f1074f79c4eed",
            "_dom_classes": [],
            "description": "",
            "_model_name": "FloatProgressModel",
            "bar_style": "success",
            "max": 7,
            "_view_module": "@jupyter-widgets/controls",
            "_model_module_version": "1.5.0",
            "value": 7,
            "_view_count": null,
            "_view_module_version": "1.5.0",
            "orientation": "horizontal",
            "min": 0,
            "description_tooltip": null,
            "_model_module": "@jupyter-widgets/controls",
            "layout": "IPY_MODEL_1b3adc9c31a84d6abf31359ade6fee7d"
          }
        },
        "ecf95dcc18634ec6b8c8e390998d41bc": {
          "model_module": "@jupyter-widgets/controls",
          "model_name": "HTMLModel",
          "model_module_version": "1.5.0",
          "state": {
            "_view_name": "HTMLView",
            "style": "IPY_MODEL_170128fff5e64fa28cd2ff2cb953a2a6",
            "_dom_classes": [],
            "description": "",
            "_model_name": "HTMLModel",
            "placeholder": "​",
            "_view_module": "@jupyter-widgets/controls",
            "_model_module_version": "1.5.0",
            "value": " 7/7 [00:04&lt;00:00,  1.05it/s]",
            "_view_count": null,
            "_view_module_version": "1.5.0",
            "description_tooltip": null,
            "_model_module": "@jupyter-widgets/controls",
            "layout": "IPY_MODEL_5e0474a7dcad4838a736c9e56e02b481"
          }
        },
        "854a55c0c3a243aa8bc5b247b840e68f": {
          "model_module": "@jupyter-widgets/controls",
          "model_name": "DescriptionStyleModel",
          "model_module_version": "1.5.0",
          "state": {
            "_view_name": "StyleView",
            "_model_name": "DescriptionStyleModel",
            "description_width": "",
            "_view_module": "@jupyter-widgets/base",
            "_model_module_version": "1.5.0",
            "_view_count": null,
            "_view_module_version": "1.2.0",
            "_model_module": "@jupyter-widgets/controls"
          }
        },
        "1463338537544cc08b8f738ea9ed1d09": {
          "model_module": "@jupyter-widgets/base",
          "model_name": "LayoutModel",
          "model_module_version": "1.2.0",
          "state": {
            "_view_name": "LayoutView",
            "grid_template_rows": null,
            "right": null,
            "justify_content": null,
            "_view_module": "@jupyter-widgets/base",
            "overflow": null,
            "_model_module_version": "1.2.0",
            "_view_count": null,
            "flex_flow": null,
            "width": null,
            "min_width": null,
            "border": null,
            "align_items": null,
            "bottom": null,
            "_model_module": "@jupyter-widgets/base",
            "top": null,
            "grid_column": null,
            "overflow_y": null,
            "overflow_x": null,
            "grid_auto_flow": null,
            "grid_area": null,
            "grid_template_columns": null,
            "flex": null,
            "_model_name": "LayoutModel",
            "justify_items": null,
            "grid_row": null,
            "max_height": null,
            "align_content": null,
            "visibility": null,
            "align_self": null,
            "height": null,
            "min_height": null,
            "padding": null,
            "grid_auto_rows": null,
            "grid_gap": null,
            "max_width": null,
            "order": null,
            "_view_module_version": "1.2.0",
            "grid_template_areas": null,
            "object_position": null,
            "object_fit": null,
            "grid_auto_columns": null,
            "margin": null,
            "display": null,
            "left": null
          }
        },
        "076d153e3d084642b50f1074f79c4eed": {
          "model_module": "@jupyter-widgets/controls",
          "model_name": "ProgressStyleModel",
          "model_module_version": "1.5.0",
          "state": {
            "_view_name": "StyleView",
            "_model_name": "ProgressStyleModel",
            "description_width": "",
            "_view_module": "@jupyter-widgets/base",
            "_model_module_version": "1.5.0",
            "_view_count": null,
            "_view_module_version": "1.2.0",
            "bar_color": null,
            "_model_module": "@jupyter-widgets/controls"
          }
        },
        "1b3adc9c31a84d6abf31359ade6fee7d": {
          "model_module": "@jupyter-widgets/base",
          "model_name": "LayoutModel",
          "model_module_version": "1.2.0",
          "state": {
            "_view_name": "LayoutView",
            "grid_template_rows": null,
            "right": null,
            "justify_content": null,
            "_view_module": "@jupyter-widgets/base",
            "overflow": null,
            "_model_module_version": "1.2.0",
            "_view_count": null,
            "flex_flow": null,
            "width": null,
            "min_width": null,
            "border": null,
            "align_items": null,
            "bottom": null,
            "_model_module": "@jupyter-widgets/base",
            "top": null,
            "grid_column": null,
            "overflow_y": null,
            "overflow_x": null,
            "grid_auto_flow": null,
            "grid_area": null,
            "grid_template_columns": null,
            "flex": null,
            "_model_name": "LayoutModel",
            "justify_items": null,
            "grid_row": null,
            "max_height": null,
            "align_content": null,
            "visibility": null,
            "align_self": null,
            "height": null,
            "min_height": null,
            "padding": null,
            "grid_auto_rows": null,
            "grid_gap": null,
            "max_width": null,
            "order": null,
            "_view_module_version": "1.2.0",
            "grid_template_areas": null,
            "object_position": null,
            "object_fit": null,
            "grid_auto_columns": null,
            "margin": null,
            "display": null,
            "left": null
          }
        },
        "170128fff5e64fa28cd2ff2cb953a2a6": {
          "model_module": "@jupyter-widgets/controls",
          "model_name": "DescriptionStyleModel",
          "model_module_version": "1.5.0",
          "state": {
            "_view_name": "StyleView",
            "_model_name": "DescriptionStyleModel",
            "description_width": "",
            "_view_module": "@jupyter-widgets/base",
            "_model_module_version": "1.5.0",
            "_view_count": null,
            "_view_module_version": "1.2.0",
            "_model_module": "@jupyter-widgets/controls"
          }
        },
        "5e0474a7dcad4838a736c9e56e02b481": {
          "model_module": "@jupyter-widgets/base",
          "model_name": "LayoutModel",
          "model_module_version": "1.2.0",
          "state": {
            "_view_name": "LayoutView",
            "grid_template_rows": null,
            "right": null,
            "justify_content": null,
            "_view_module": "@jupyter-widgets/base",
            "overflow": null,
            "_model_module_version": "1.2.0",
            "_view_count": null,
            "flex_flow": null,
            "width": null,
            "min_width": null,
            "border": null,
            "align_items": null,
            "bottom": null,
            "_model_module": "@jupyter-widgets/base",
            "top": null,
            "grid_column": null,
            "overflow_y": null,
            "overflow_x": null,
            "grid_auto_flow": null,
            "grid_area": null,
            "grid_template_columns": null,
            "flex": null,
            "_model_name": "LayoutModel",
            "justify_items": null,
            "grid_row": null,
            "max_height": null,
            "align_content": null,
            "visibility": null,
            "align_self": null,
            "height": null,
            "min_height": null,
            "padding": null,
            "grid_auto_rows": null,
            "grid_gap": null,
            "max_width": null,
            "order": null,
            "_view_module_version": "1.2.0",
            "grid_template_areas": null,
            "object_position": null,
            "object_fit": null,
            "grid_auto_columns": null,
            "margin": null,
            "display": null,
            "left": null
          }
        },
        "2f6464db605441c181d3c74bbc1eb71b": {
          "model_module": "@jupyter-widgets/controls",
          "model_name": "HBoxModel",
          "model_module_version": "1.5.0",
          "state": {
            "_view_name": "HBoxView",
            "_dom_classes": [],
            "_model_name": "HBoxModel",
            "_view_module": "@jupyter-widgets/controls",
            "_model_module_version": "1.5.0",
            "_view_count": null,
            "_view_module_version": "1.5.0",
            "box_style": "",
            "layout": "IPY_MODEL_38f9f306bd284393b2cf8cefc228eead",
            "_model_module": "@jupyter-widgets/controls",
            "children": [
              "IPY_MODEL_91da62e6d6454a4a9d1e1e8dad165793",
              "IPY_MODEL_c194ebf0cd4744f5ba75cee6febcef61",
              "IPY_MODEL_d6acef4933e4404f899e8e9949a529fd"
            ]
          }
        },
        "38f9f306bd284393b2cf8cefc228eead": {
          "model_module": "@jupyter-widgets/base",
          "model_name": "LayoutModel",
          "model_module_version": "1.2.0",
          "state": {
            "_view_name": "LayoutView",
            "grid_template_rows": null,
            "right": null,
            "justify_content": null,
            "_view_module": "@jupyter-widgets/base",
            "overflow": null,
            "_model_module_version": "1.2.0",
            "_view_count": null,
            "flex_flow": null,
            "width": null,
            "min_width": null,
            "border": null,
            "align_items": null,
            "bottom": null,
            "_model_module": "@jupyter-widgets/base",
            "top": null,
            "grid_column": null,
            "overflow_y": null,
            "overflow_x": null,
            "grid_auto_flow": null,
            "grid_area": null,
            "grid_template_columns": null,
            "flex": null,
            "_model_name": "LayoutModel",
            "justify_items": null,
            "grid_row": null,
            "max_height": null,
            "align_content": null,
            "visibility": null,
            "align_self": null,
            "height": null,
            "min_height": null,
            "padding": null,
            "grid_auto_rows": null,
            "grid_gap": null,
            "max_width": null,
            "order": null,
            "_view_module_version": "1.2.0",
            "grid_template_areas": null,
            "object_position": null,
            "object_fit": null,
            "grid_auto_columns": null,
            "margin": null,
            "display": null,
            "left": null
          }
        },
        "91da62e6d6454a4a9d1e1e8dad165793": {
          "model_module": "@jupyter-widgets/controls",
          "model_name": "HTMLModel",
          "model_module_version": "1.5.0",
          "state": {
            "_view_name": "HTMLView",
            "style": "IPY_MODEL_92bc993876794fedb556fce79d889250",
            "_dom_classes": [],
            "description": "",
            "_model_name": "HTMLModel",
            "placeholder": "​",
            "_view_module": "@jupyter-widgets/controls",
            "_model_module_version": "1.5.0",
            "value": "Finding Elimination Order: :   0%",
            "_view_count": null,
            "_view_module_version": "1.5.0",
            "description_tooltip": null,
            "_model_module": "@jupyter-widgets/controls",
            "layout": "IPY_MODEL_4b1da433b05c488eba0fe2f11541edde"
          }
        },
        "c194ebf0cd4744f5ba75cee6febcef61": {
          "model_module": "@jupyter-widgets/controls",
          "model_name": "FloatProgressModel",
          "model_module_version": "1.5.0",
          "state": {
            "_view_name": "ProgressView",
            "style": "IPY_MODEL_49f171b30b674af1a21671c9f07b381e",
            "_dom_classes": [],
            "description": "",
            "_model_name": "FloatProgressModel",
            "bar_style": "",
            "max": 6,
            "_view_module": "@jupyter-widgets/controls",
            "_model_module_version": "1.5.0",
            "value": 0,
            "_view_count": null,
            "_view_module_version": "1.5.0",
            "orientation": "horizontal",
            "min": 0,
            "description_tooltip": null,
            "_model_module": "@jupyter-widgets/controls",
            "layout": "IPY_MODEL_755b9acb6fe54a14a0a6a565c677ac22"
          }
        },
        "d6acef4933e4404f899e8e9949a529fd": {
          "model_module": "@jupyter-widgets/controls",
          "model_name": "HTMLModel",
          "model_module_version": "1.5.0",
          "state": {
            "_view_name": "HTMLView",
            "style": "IPY_MODEL_805c4a3960fe482299297f14059099d5",
            "_dom_classes": [],
            "description": "",
            "_model_name": "HTMLModel",
            "placeholder": "​",
            "_view_module": "@jupyter-widgets/controls",
            "_model_module_version": "1.5.0",
            "value": " 0/6 [00:00&lt;?, ?it/s]",
            "_view_count": null,
            "_view_module_version": "1.5.0",
            "description_tooltip": null,
            "_model_module": "@jupyter-widgets/controls",
            "layout": "IPY_MODEL_129de1b705f84b36aa152663f6bb6743"
          }
        },
        "92bc993876794fedb556fce79d889250": {
          "model_module": "@jupyter-widgets/controls",
          "model_name": "DescriptionStyleModel",
          "model_module_version": "1.5.0",
          "state": {
            "_view_name": "StyleView",
            "_model_name": "DescriptionStyleModel",
            "description_width": "",
            "_view_module": "@jupyter-widgets/base",
            "_model_module_version": "1.5.0",
            "_view_count": null,
            "_view_module_version": "1.2.0",
            "_model_module": "@jupyter-widgets/controls"
          }
        },
        "4b1da433b05c488eba0fe2f11541edde": {
          "model_module": "@jupyter-widgets/base",
          "model_name": "LayoutModel",
          "model_module_version": "1.2.0",
          "state": {
            "_view_name": "LayoutView",
            "grid_template_rows": null,
            "right": null,
            "justify_content": null,
            "_view_module": "@jupyter-widgets/base",
            "overflow": null,
            "_model_module_version": "1.2.0",
            "_view_count": null,
            "flex_flow": null,
            "width": null,
            "min_width": null,
            "border": null,
            "align_items": null,
            "bottom": null,
            "_model_module": "@jupyter-widgets/base",
            "top": null,
            "grid_column": null,
            "overflow_y": null,
            "overflow_x": null,
            "grid_auto_flow": null,
            "grid_area": null,
            "grid_template_columns": null,
            "flex": null,
            "_model_name": "LayoutModel",
            "justify_items": null,
            "grid_row": null,
            "max_height": null,
            "align_content": null,
            "visibility": null,
            "align_self": null,
            "height": null,
            "min_height": null,
            "padding": null,
            "grid_auto_rows": null,
            "grid_gap": null,
            "max_width": null,
            "order": null,
            "_view_module_version": "1.2.0",
            "grid_template_areas": null,
            "object_position": null,
            "object_fit": null,
            "grid_auto_columns": null,
            "margin": null,
            "display": null,
            "left": null
          }
        },
        "49f171b30b674af1a21671c9f07b381e": {
          "model_module": "@jupyter-widgets/controls",
          "model_name": "ProgressStyleModel",
          "model_module_version": "1.5.0",
          "state": {
            "_view_name": "StyleView",
            "_model_name": "ProgressStyleModel",
            "description_width": "",
            "_view_module": "@jupyter-widgets/base",
            "_model_module_version": "1.5.0",
            "_view_count": null,
            "_view_module_version": "1.2.0",
            "bar_color": null,
            "_model_module": "@jupyter-widgets/controls"
          }
        },
        "755b9acb6fe54a14a0a6a565c677ac22": {
          "model_module": "@jupyter-widgets/base",
          "model_name": "LayoutModel",
          "model_module_version": "1.2.0",
          "state": {
            "_view_name": "LayoutView",
            "grid_template_rows": null,
            "right": null,
            "justify_content": null,
            "_view_module": "@jupyter-widgets/base",
            "overflow": null,
            "_model_module_version": "1.2.0",
            "_view_count": null,
            "flex_flow": null,
            "width": null,
            "min_width": null,
            "border": null,
            "align_items": null,
            "bottom": null,
            "_model_module": "@jupyter-widgets/base",
            "top": null,
            "grid_column": null,
            "overflow_y": null,
            "overflow_x": null,
            "grid_auto_flow": null,
            "grid_area": null,
            "grid_template_columns": null,
            "flex": null,
            "_model_name": "LayoutModel",
            "justify_items": null,
            "grid_row": null,
            "max_height": null,
            "align_content": null,
            "visibility": null,
            "align_self": null,
            "height": null,
            "min_height": null,
            "padding": null,
            "grid_auto_rows": null,
            "grid_gap": null,
            "max_width": null,
            "order": null,
            "_view_module_version": "1.2.0",
            "grid_template_areas": null,
            "object_position": null,
            "object_fit": null,
            "grid_auto_columns": null,
            "margin": null,
            "display": null,
            "left": null
          }
        },
        "805c4a3960fe482299297f14059099d5": {
          "model_module": "@jupyter-widgets/controls",
          "model_name": "DescriptionStyleModel",
          "model_module_version": "1.5.0",
          "state": {
            "_view_name": "StyleView",
            "_model_name": "DescriptionStyleModel",
            "description_width": "",
            "_view_module": "@jupyter-widgets/base",
            "_model_module_version": "1.5.0",
            "_view_count": null,
            "_view_module_version": "1.2.0",
            "_model_module": "@jupyter-widgets/controls"
          }
        },
        "129de1b705f84b36aa152663f6bb6743": {
          "model_module": "@jupyter-widgets/base",
          "model_name": "LayoutModel",
          "model_module_version": "1.2.0",
          "state": {
            "_view_name": "LayoutView",
            "grid_template_rows": null,
            "right": null,
            "justify_content": null,
            "_view_module": "@jupyter-widgets/base",
            "overflow": null,
            "_model_module_version": "1.2.0",
            "_view_count": null,
            "flex_flow": null,
            "width": null,
            "min_width": null,
            "border": null,
            "align_items": null,
            "bottom": null,
            "_model_module": "@jupyter-widgets/base",
            "top": null,
            "grid_column": null,
            "overflow_y": null,
            "overflow_x": null,
            "grid_auto_flow": null,
            "grid_area": null,
            "grid_template_columns": null,
            "flex": null,
            "_model_name": "LayoutModel",
            "justify_items": null,
            "grid_row": null,
            "max_height": null,
            "align_content": null,
            "visibility": null,
            "align_self": null,
            "height": null,
            "min_height": null,
            "padding": null,
            "grid_auto_rows": null,
            "grid_gap": null,
            "max_width": null,
            "order": null,
            "_view_module_version": "1.2.0",
            "grid_template_areas": null,
            "object_position": null,
            "object_fit": null,
            "grid_auto_columns": null,
            "margin": null,
            "display": null,
            "left": null
          }
        },
        "876cda8dbc1f4008bbe67a0fab628173": {
          "model_module": "@jupyter-widgets/controls",
          "model_name": "HBoxModel",
          "model_module_version": "1.5.0",
          "state": {
            "_view_name": "HBoxView",
            "_dom_classes": [],
            "_model_name": "HBoxModel",
            "_view_module": "@jupyter-widgets/controls",
            "_model_module_version": "1.5.0",
            "_view_count": null,
            "_view_module_version": "1.5.0",
            "box_style": "",
            "layout": "IPY_MODEL_5d58642b3a6a4d36890b8ecadf36de01",
            "_model_module": "@jupyter-widgets/controls",
            "children": [
              "IPY_MODEL_263200c41bbf4cab934e8622148be6ee",
              "IPY_MODEL_01383a393a374a309309b54afaad0b86",
              "IPY_MODEL_03af185773ee4bcfb99aed74dc8e81eb"
            ]
          }
        },
        "5d58642b3a6a4d36890b8ecadf36de01": {
          "model_module": "@jupyter-widgets/base",
          "model_name": "LayoutModel",
          "model_module_version": "1.2.0",
          "state": {
            "_view_name": "LayoutView",
            "grid_template_rows": null,
            "right": null,
            "justify_content": null,
            "_view_module": "@jupyter-widgets/base",
            "overflow": null,
            "_model_module_version": "1.2.0",
            "_view_count": null,
            "flex_flow": null,
            "width": null,
            "min_width": null,
            "border": null,
            "align_items": null,
            "bottom": null,
            "_model_module": "@jupyter-widgets/base",
            "top": null,
            "grid_column": null,
            "overflow_y": null,
            "overflow_x": null,
            "grid_auto_flow": null,
            "grid_area": null,
            "grid_template_columns": null,
            "flex": null,
            "_model_name": "LayoutModel",
            "justify_items": null,
            "grid_row": null,
            "max_height": null,
            "align_content": null,
            "visibility": null,
            "align_self": null,
            "height": null,
            "min_height": null,
            "padding": null,
            "grid_auto_rows": null,
            "grid_gap": null,
            "max_width": null,
            "order": null,
            "_view_module_version": "1.2.0",
            "grid_template_areas": null,
            "object_position": null,
            "object_fit": null,
            "grid_auto_columns": null,
            "margin": null,
            "display": null,
            "left": null
          }
        },
        "263200c41bbf4cab934e8622148be6ee": {
          "model_module": "@jupyter-widgets/controls",
          "model_name": "HTMLModel",
          "model_module_version": "1.5.0",
          "state": {
            "_view_name": "HTMLView",
            "style": "IPY_MODEL_88d56876a7bc4c1cbd22ce9ab8e6d31c",
            "_dom_classes": [],
            "description": "",
            "_model_name": "HTMLModel",
            "placeholder": "​",
            "_view_module": "@jupyter-widgets/controls",
            "_model_module_version": "1.5.0",
            "value": "Eliminating: Day difference: 100%",
            "_view_count": null,
            "_view_module_version": "1.5.0",
            "description_tooltip": null,
            "_model_module": "@jupyter-widgets/controls",
            "layout": "IPY_MODEL_a5d24e00b03e4be0aad6b721125b0374"
          }
        },
        "01383a393a374a309309b54afaad0b86": {
          "model_module": "@jupyter-widgets/controls",
          "model_name": "FloatProgressModel",
          "model_module_version": "1.5.0",
          "state": {
            "_view_name": "ProgressView",
            "style": "IPY_MODEL_843c2eb710b546fb9b18a1ad0e3b46a0",
            "_dom_classes": [],
            "description": "",
            "_model_name": "FloatProgressModel",
            "bar_style": "success",
            "max": 6,
            "_view_module": "@jupyter-widgets/controls",
            "_model_module_version": "1.5.0",
            "value": 6,
            "_view_count": null,
            "_view_module_version": "1.5.0",
            "orientation": "horizontal",
            "min": 0,
            "description_tooltip": null,
            "_model_module": "@jupyter-widgets/controls",
            "layout": "IPY_MODEL_888113c4f5034bb098deaa71a48449fe"
          }
        },
        "03af185773ee4bcfb99aed74dc8e81eb": {
          "model_module": "@jupyter-widgets/controls",
          "model_name": "HTMLModel",
          "model_module_version": "1.5.0",
          "state": {
            "_view_name": "HTMLView",
            "style": "IPY_MODEL_6dfe2bc140a54c89bb948da282bdfa6a",
            "_dom_classes": [],
            "description": "",
            "_model_name": "HTMLModel",
            "placeholder": "​",
            "_view_module": "@jupyter-widgets/controls",
            "_model_module_version": "1.5.0",
            "value": " 6/6 [00:00&lt;00:00, 78.75it/s]",
            "_view_count": null,
            "_view_module_version": "1.5.0",
            "description_tooltip": null,
            "_model_module": "@jupyter-widgets/controls",
            "layout": "IPY_MODEL_198ca43ed7e7442a8ae095a35df83703"
          }
        },
        "88d56876a7bc4c1cbd22ce9ab8e6d31c": {
          "model_module": "@jupyter-widgets/controls",
          "model_name": "DescriptionStyleModel",
          "model_module_version": "1.5.0",
          "state": {
            "_view_name": "StyleView",
            "_model_name": "DescriptionStyleModel",
            "description_width": "",
            "_view_module": "@jupyter-widgets/base",
            "_model_module_version": "1.5.0",
            "_view_count": null,
            "_view_module_version": "1.2.0",
            "_model_module": "@jupyter-widgets/controls"
          }
        },
        "a5d24e00b03e4be0aad6b721125b0374": {
          "model_module": "@jupyter-widgets/base",
          "model_name": "LayoutModel",
          "model_module_version": "1.2.0",
          "state": {
            "_view_name": "LayoutView",
            "grid_template_rows": null,
            "right": null,
            "justify_content": null,
            "_view_module": "@jupyter-widgets/base",
            "overflow": null,
            "_model_module_version": "1.2.0",
            "_view_count": null,
            "flex_flow": null,
            "width": null,
            "min_width": null,
            "border": null,
            "align_items": null,
            "bottom": null,
            "_model_module": "@jupyter-widgets/base",
            "top": null,
            "grid_column": null,
            "overflow_y": null,
            "overflow_x": null,
            "grid_auto_flow": null,
            "grid_area": null,
            "grid_template_columns": null,
            "flex": null,
            "_model_name": "LayoutModel",
            "justify_items": null,
            "grid_row": null,
            "max_height": null,
            "align_content": null,
            "visibility": null,
            "align_self": null,
            "height": null,
            "min_height": null,
            "padding": null,
            "grid_auto_rows": null,
            "grid_gap": null,
            "max_width": null,
            "order": null,
            "_view_module_version": "1.2.0",
            "grid_template_areas": null,
            "object_position": null,
            "object_fit": null,
            "grid_auto_columns": null,
            "margin": null,
            "display": null,
            "left": null
          }
        },
        "843c2eb710b546fb9b18a1ad0e3b46a0": {
          "model_module": "@jupyter-widgets/controls",
          "model_name": "ProgressStyleModel",
          "model_module_version": "1.5.0",
          "state": {
            "_view_name": "StyleView",
            "_model_name": "ProgressStyleModel",
            "description_width": "",
            "_view_module": "@jupyter-widgets/base",
            "_model_module_version": "1.5.0",
            "_view_count": null,
            "_view_module_version": "1.2.0",
            "bar_color": null,
            "_model_module": "@jupyter-widgets/controls"
          }
        },
        "888113c4f5034bb098deaa71a48449fe": {
          "model_module": "@jupyter-widgets/base",
          "model_name": "LayoutModel",
          "model_module_version": "1.2.0",
          "state": {
            "_view_name": "LayoutView",
            "grid_template_rows": null,
            "right": null,
            "justify_content": null,
            "_view_module": "@jupyter-widgets/base",
            "overflow": null,
            "_model_module_version": "1.2.0",
            "_view_count": null,
            "flex_flow": null,
            "width": null,
            "min_width": null,
            "border": null,
            "align_items": null,
            "bottom": null,
            "_model_module": "@jupyter-widgets/base",
            "top": null,
            "grid_column": null,
            "overflow_y": null,
            "overflow_x": null,
            "grid_auto_flow": null,
            "grid_area": null,
            "grid_template_columns": null,
            "flex": null,
            "_model_name": "LayoutModel",
            "justify_items": null,
            "grid_row": null,
            "max_height": null,
            "align_content": null,
            "visibility": null,
            "align_self": null,
            "height": null,
            "min_height": null,
            "padding": null,
            "grid_auto_rows": null,
            "grid_gap": null,
            "max_width": null,
            "order": null,
            "_view_module_version": "1.2.0",
            "grid_template_areas": null,
            "object_position": null,
            "object_fit": null,
            "grid_auto_columns": null,
            "margin": null,
            "display": null,
            "left": null
          }
        },
        "6dfe2bc140a54c89bb948da282bdfa6a": {
          "model_module": "@jupyter-widgets/controls",
          "model_name": "DescriptionStyleModel",
          "model_module_version": "1.5.0",
          "state": {
            "_view_name": "StyleView",
            "_model_name": "DescriptionStyleModel",
            "description_width": "",
            "_view_module": "@jupyter-widgets/base",
            "_model_module_version": "1.5.0",
            "_view_count": null,
            "_view_module_version": "1.2.0",
            "_model_module": "@jupyter-widgets/controls"
          }
        },
        "198ca43ed7e7442a8ae095a35df83703": {
          "model_module": "@jupyter-widgets/base",
          "model_name": "LayoutModel",
          "model_module_version": "1.2.0",
          "state": {
            "_view_name": "LayoutView",
            "grid_template_rows": null,
            "right": null,
            "justify_content": null,
            "_view_module": "@jupyter-widgets/base",
            "overflow": null,
            "_model_module_version": "1.2.0",
            "_view_count": null,
            "flex_flow": null,
            "width": null,
            "min_width": null,
            "border": null,
            "align_items": null,
            "bottom": null,
            "_model_module": "@jupyter-widgets/base",
            "top": null,
            "grid_column": null,
            "overflow_y": null,
            "overflow_x": null,
            "grid_auto_flow": null,
            "grid_area": null,
            "grid_template_columns": null,
            "flex": null,
            "_model_name": "LayoutModel",
            "justify_items": null,
            "grid_row": null,
            "max_height": null,
            "align_content": null,
            "visibility": null,
            "align_self": null,
            "height": null,
            "min_height": null,
            "padding": null,
            "grid_auto_rows": null,
            "grid_gap": null,
            "max_width": null,
            "order": null,
            "_view_module_version": "1.2.0",
            "grid_template_areas": null,
            "object_position": null,
            "object_fit": null,
            "grid_auto_columns": null,
            "margin": null,
            "display": null,
            "left": null
          }
        }
      }
    }
  },
  "cells": [
    {
      "cell_type": "markdown",
      "metadata": {
        "id": "view-in-github",
        "colab_type": "text"
      },
      "source": [
        "<a href=\"https://colab.research.google.com/github/Steven-Yiran/Bayesian_No-show_Model/blob/main/PGM_Final_Report.ipynb\" target=\"_parent\"><img src=\"https://colab.research.google.com/assets/colab-badge.svg\" alt=\"Open In Colab\"/></a>"
      ]
    },
    {
      "cell_type": "markdown",
      "source": [
        "<h1><center> Predicting Appointment No-shows: Knowledge Engineering with Baysian Network </center></h1>\n",
        "<center>Author: Yiran(Steven) Shi <br>\n",
        "Advised by: Professor Alex Lyford <br>\n",
        "Submitted in partial fulfillment of the Requirements for MATH 500 Advanced Study J-term 2022</center>\n",
        "\n",
        "\n",
        "## 1. Introduction\n",
        "Probabilistic graphical models are a powerful framework for representing complex domains using probability distributions, with numerous applications in machine learning, computer vision, natural language processing, and computational biology. Graphical models bring together graph theory and probability theory and provide a flexible framework for modeling large collections of random variables with complex interactions. This course will provide a comprehensive survey of the topic, introducing the key formalisms and main techniques used to construct them, make predictions, and support decision-making under uncertainty.\n",
        "\n",
        "Over this J-term, I have followed the \"Probabilistic Graphical Models\" class on [Coursera](https://www.coursera.org/specializations/probabilistic-graphical-models#howItWorks). The main content of the course is about designing, implementing, and applying these models to solve real problems. The course covered:\n",
        "1. Bayesian networks, undirected graphical models, and their temporal extensions.\n",
        "2. Exact and approximate inference methods.\n",
        "3. Estimation of the parameters and the structure of graphical models.\n",
        "\n",
        "This final project will adopt Bayesian networks as the baseline model. The goal would be to construct the network based on a real-life situation and then perform probability queries using the network. The project will have two parts. In the first part, I will use the Python [pgmpy](https://github.com/pgmpy/pgmpy) package to design a small Bayesian network for estimating the appointment commitment rate. Then, in the second part of the project, I will replicate some of the functionality in PGMPY for answering probability queries in the network using the factor operations covered in the course. More complicated sampling and learning methods will then be applied.\n"
      ],
      "metadata": {
        "id": "-sA6h84P5GMh"
      }
    },
    {
      "cell_type": "markdown",
      "source": [
        "## 2. Engineering a network for testing no-show estimation\n",
        "For the first part of the project, I will use the pgmpy package to design a Bayesian network to predict COVID Testing appointment No-shows likelihood for Middlebury students.\n",
        "\n",
        "### 2.1 Constructing the network\n",
        "Imagine the following scenario: to closely monitor the COVID situation on campus, Middlebury College conducts regular campus-wide testing among students. Further, to maintain a reasonable waiting line length at any given time, the college has required students to book an appointment ahead of time. However, it is easy for students to not commit to their scheduled time, which might result in heavy traffic at a particular time that is not desirable. \n",
        "\n",
        "In this case, we develop a predictor for whether a student will show up at the testing scene at their assigned time. Probabilistic graphical models can help to develop a predictor for no-shows. To build the model, we take advantage of the observable information of a student. Specifically, our skeleton Bayesian network will contain the following 7 relevant variables:\n",
        "\n",
        "General information:\n",
        "* On Campus (Whether student live on campus)\n",
        "* Athlete (whether a student is a varsity athlete)\n",
        "* Scholarship (whether student receive a scholarship)\n",
        "* Punctuality (whether this is a punctual student)\n",
        "\n",
        "Testing related:\n",
        "* Day difference (appointment day - booking day) \n",
        "* Prior appointments (prior completed testing appointment)\n",
        "* (Target) No-show (whether students show up at their scheduled time)\n",
        "\n",
        "\n",
        "---\n",
        "\n",
        "\n",
        "We also use the following general observations made from school official's prior experiences to define the connections between the variables and their respective Conditional Probability Distribution(CPD) tables:\n",
        "\n",
        "1. In general, students living on campus are more likely to be punctual.\n",
        "2. Students athletes often have stricter testing requirements and hence are less likely to not show up for appointments.\n",
        "3. A student on scholarships is more likely to be punctual and be a student-athlete. \n",
        "4. The larger the day difference, the more likely it is for a student to be a student-athlete.\n",
        "5. A student having a higher number of prior appointments (i.e. 5+ times) are more likely to show up for the next appointment. \n",
        "6. The higher a student's prior appointments number is, the less likely it is for a student to not show up, ceteris paribus. Similarly, punctual students are less likely to commit no show. \n",
        "\n",
        "The above information allows us to create a model that will predict no-show probability using prior knowledge and specific information related to Middlebury students. In this way, we can potentially engineer models with stronger predictive power than only using information-related testing appointments.  "
      ],
      "metadata": {
        "id": "uP463C0XF5OQ"
      }
    },
    {
      "cell_type": "markdown",
      "source": [
        "#### 2.1.1 Define model structure\n"
      ],
      "metadata": {
        "id": "gzQGaY-pE12N"
      }
    },
    {
      "cell_type": "markdown",
      "source": [
        "To define our model, we first engineer all variables of interest as nodes. The value of our nodes has to be **mutually exclusive** and **exhaustive**. That is each node should take one value at a time. Conveniently, most of our nodes, like \"On Campus\" or \"Scholarship\", take on boolean values. For integral value nodes such as \"Day difference\" and \"prior appointments\", we choose the alternative representation method by categorizing values into range brackets.\n",
        "\n",
        "Nodes and Values:\n",
        "* Scholarship: {T, F}\n",
        "* On Campus: {T, F}\n",
        "* Athlete: {T, F}\n",
        "* Punctuality: {T, F}\n",
        "* Day difference: {1 day, 2 days, 3 days+}\n",
        "* Prior appointments: {0-5 times, 5+ times}\n",
        "* (Target) No-show: {T, F}\n"
      ],
      "metadata": {
        "id": "tb9C84VtDAxh"
      }
    },
    {
      "cell_type": "markdown",
      "source": [
        "![UML class.png](data:image/png;base64,iVBORw0KGgoAAAANSUhEUgAABLAAAAQ4CAMAAAAuHNVIAAAABGdBTUEAALGPC/xhBQAAACBjSFJNAAB6JgAAgIQAAPoAAACA6AAAdTAAAOpgAAA6mAAAF3CculE8AAABC1BMVEX////Pz8+3t7f29vbl5eXu7u56enozMzP7+/vDw8Pb29uoqKiamppGRkZXV1eLi4tpaWnD98i35ruw3rXA88WQsZNkd2e87sGhyaVLVk2Go4hZZ1lxh3OZvpx6ln5ARUCp1K2TtpZTX1Sx3rWXl5d+fn6mpqZQUFA2NjaDg4NPT09fX1+VlZWYmJhkZGRAQEBxcXFUxF1SvVxPsVc+ZEFIkE42QDdAcUVTwV04TTpQuFk7WT5GhktOqlZCfEhLolRKmVBOq1ZLplSxsbGsrKwAig5nZ2dhYWEChg4RahoKdRYFfxEOcBghUCUcVyIAiA4oQSwtOy8EghAYXyAkSigJehMUZBwTZhwFfREdGBAaAAAAAWJLR0QAiAUdSAAAAAlwSFlzAAAYmwAAGJsBSXWDlAAAAAd0SU1FB+YCBwo0Cr22ptkAAEMXSURBVHja7d2LXxrJ+udxQaAQBJU7qODu/n5z5sxvzs5O1NwnZi+zG5OYmMwku///X7JdVd1Nc1PKNjzd1Of9OiejyKV9+qmv1UUDOzsAAAAAAAAAAAAAAAAAAAAAAAAAAAAAAAAAAAAAAAAAAAAAAAAAAAAAAAAAAAAAAAAAAAAAAAAAAAAAAAAAAAAAAAAAAAAAAAAAAAAAAAAAAAAAAAAAAAAAAAAAAAAAAAAAAAAAAAAAAAAAAAAAAAAAAAAAAAAAAAAAAAAAAAAAAAAAAAAAAAAAAAAAAAAAAAAAAAAAAAAAAAAAAAAAAAAAAAAAAAAAAAAAAAAAAAAAAAAAAAAAAAAAAAAAAAAAAAAAAAAAAAAAAAAAAADArEKxKL0Jm7JbLBa2+gGX78uN/9rAIynNKe/sVJRyuINqqRgoVecu3AvGRCn6tlwq7SZ/vGseJ7jU3Kqg76BYm73KrOiq4Xe14M7LC9eYtd5vr1TFsVrTx62W7trk6Fct1OtBeaLNd33AuTsrzT6k/r565y2W78t0WwHIUXMqboFV3o9uuD+NiFojvjc7vOvBj5O3aipVMI9Tmt2Eg73lCRDcXsV3X63bKzdmIqsy/4vcvd1VGzyuI1c/bJwQwY3vm4ruxuVpFKsPecBZRV2jxPeHybosRWBhu6QLrLKJpjCf9uxluwcqcaEZ0rvJcW7Gi/52MbD0uF7yIHpcTgdmU3/XnE8sx8Aq2RFbTc6Y1qzWwfQ+7gssW57DA7PJh9WdxwgsNc303Zm6LEVgYbuEB1C6890PCfWAPAgOUqq1ejNKrGrTTLeq+sjtMBrfB2ZKFQmmHfWdmcAyd7Z3EI/rpD2bT9HALOpU290pNGdDsDz3e9xzSFh82IhVyYgo3xtYwe/fMNfe1b+EnmQ+QmDtxd/WCSx4KjklWTuwdF5Fw6caBYgOlFp0jehYrhYEUXyzasNOE+YCS/9EH0Edzj1KEFel4nRgBje2d78/E4JLfo+7VB4aWMFGN6vxd3cHVjURLzprqo8QWAeJ+jSTQb7q9ySwsIXmA2t376DRPIgGQ3Xv4FAd7u/NrayrZGQE6dUs2cOUxBgKUqWp/9tMHMoUwuGyGFjm+vMxpA6qO9PAqsbXrs2u5yz8HrvFSlNV6vG9lQ4qlcpBQW9GvdJQjUqlvlPW/+jvD8xv3KjsxTc+aOrr1iuV2buv709jKv6qtl8J7q8+f3RZSqZvvViwgRU8alFXMyrmrt6ayr555IPo4YLHtb9wqVKZ1iMoQ/C/6GGCAtTjuug91KwUozst7wcPUS9NA6tW15tYLEcbRmAhz+YCqxyuQNmxYheR9ORnZk28EIZRqGaGzv7sWKiGE6KiPQqM7r8Q/nchsPTtD2c3Lbx5ODCnY626bDY1vSxe+bfJUI4Xucrxglclurfge3Mkq6InB8Lfv1Gem6EEV9e/UTn6zgRW9SC667kJV3kxffW6VyFcrrPF3Iu2s1I1v305+j1sverJ/NdlaMSFPAiON8OfxnuoEcZctP+i7a9Hm1iYLSKQS3OBFUxAivVGmB16iDaK5vvkqlEcPDMq0RFbqG6H8e403OIvlwZWSU2nEFMzgRU94XhoDrJW/B76fg6DjVbh2NRBWizpZbJDfSJFsA36XKRpYB2Gv7F5cJ00B4ViUIXmQmDFE8Q4sHS9irVCfTGxmgtrTHrSFfzPLNeZ4NHptV8oFZumKoXwGLIUHxoH2zVbhv2okFW9VGjvX++hQ/vbme3XWV7ZKwUTuYbdfj1xrReLlTCxCCzk3HxgRVMgPQsohk/I6ZlEcfY2iwsojbkUKYQBcxAHWT26l6WBtfxeZwIrSr5lCzjxfVXC5Xs99yiZIWyXnor20cMROw0sZY6mDmyM7NuNNktqC4Glr70Xfle092Gfr5ybcdpfVTX2khtpkshkTJhIzTD1q2Y7q+Fhbl2vTlXt1RLHvboM5aiQe/r5BVuCYvRcRbjhe+Gt9J3q7d+NplbBdK65Q2Ah9+YCyw6Soh2Z8TFQdXZEqiUznIVV79I0GsKRFy9nLQ+sw7kpWrQlpekD2K2pqTsCqxyvjdsp2fTha+ZUy4XAOjQ/DGdPceoGAdCYvftK4iQNG1jTZ0APFqac4WlYlWJ0LF2KjxLtX4NCfARsl+TCCdWhCqZcNXtp4i5NGZrhFLMZ7IwwsBrxCqH9qhnVqGDrMV132zfVJbCQc3OBZQeJ7etEd1dmImLZGlJpfglqNxry4ZQhsVa+PLD2lz33lgisSrgqVa3cFVh7yaVxZR9+f+Z6c4FlF4bKJpLLyRRZnGGZJ+vsd8XEL2biYX7Ta/vhatKhPSe2FKd83fw1KE6fRzRHb3UTOFVz6Fffib6fKcOejUtzUoUNrN1p0ffNBSpx2Kjs71dObiKBhZybCyw7SOLAOixa9wfW7tyUZJpge+HQ3I/vY3lgmUWwangyVTSDSwRWySyN1/bNqakrA0tnSrjRdhmqYNa0StPrzQVWKXH71Qv74Q/Cg9Ho6LI53bSD+My2OGdKxUojPjN/Guj22HR/JonNzwsmJ4MN1lc8nMl/U4Zd+/fERJkNrNL0GQ0TgNVpHtntDx4/LMb+/N8gII+Wnodl+7o4cwJ5IiIqy1ablhwS2glVuGiTOKxcHliNcCDOPFoisOLt2a/fEVizJ75PL2nsR8/CzQVW8val+elZ4u6jm+kDTnO1RDqUzZfLnjEsF8OnBadRYQOrMhNYZf3r7+swquhcquo7T96PLcOBqWgjTJ7SzMyuGM67ok2yaT1TDAIL+Xd3YDUrsdkT1hcD63DuSb5icvmkPH0ebGdFYO1GkbEysHZKB03VONjTx4QrnyXUq1LTjTZbtFu3Zy7U7fXSBFZ43Gr+2Z0O/t2VgWXX3wv3BZZJo6ZZwtKJVNNTrWQ1i1E+7YaLWzawEse/e6sCa1qMOoGF3LsjsGqJU6hm7M29pNlk2dwziYlzH+yBS+JchKWBVTOPecch4VRz4aT46X3Vly3d75T3DsMX460OrGZyhX5VYNmTsaJDwmgzwkPouUNCq9qMFv9nAmv+kNCk0W4YXfXg15g5wC5Ga+x7wQ0bOzvTQ8KZGVZ5/pBw1TMhQE7dEVgru3vupPa6OdO9sPg652joBvMiPZb2E4+zEFjJV/skLAus8lxezvwexRUvm9FP9Nd37gqsmd+4tCKw7NOJ8aJ7+NPa3IOWiomkt6cazAdWcRqsjegMhFrBfLUXBGFz9lcMy6BPxbLnj9rASgRUPVx0Pwx/3XjRfWYuSmAh5+4IrOo0gnZnD8HqyZcqF8Jl5cNkjuh8KCauoc+uLCceZz6wyg21ZNo0u+i+V4wevbH4ZjTRfSVevBi+GiV82LJ9VuDOwJoute+vCixzMlZ8WkMtvnYybHeTB4Z6TrbkkLAQVyt6avJQv/qnYi8oz50nEZZBr8zbOsZTriiQmuFCWPi0SXhaw0G8YdUHvasOkDF3BFb05gomTmZevacHYTMMglpj+rKP+CU85WbipcL66geNRB4tBNbu3uKp4dbsaQ1m8BUay+ZQ8X01oxixK9LNxNlbh/Z6uzurAise4OZlM7N3n1ivasQnjtqq7DZmXwmwE514rtVVdAw3E1jTDYtO4qqrw6b9zYJyzc2MojI0oxPhwwvqUSAVZvdYdOJoKd4NB6rJeVjIv7sCS88U9ss75cLCOZ2FhjkrslAzL/qIZz5Kv8y2VqhXpi9uM/anL08MHycKLP2Mu10Tb8wfEBbC8yn29X/tqZaN/VqtvnBa+ezvoecWe7s75SBz9ERMn62/V97ZrTXtWNYrSsGka0Vg6RvXSwXzbggrAss+WWl+5UP9Hjs71Vpj/jDUvCLxsF4r10wp6jtLAmtPv7nF7k4pepW4fb7B1OVAzU83o8DSj72XuMDM5cr2TWz092Xz/W4tfmmOfo+JWrVaO7DhSmAh5+4KrMQ7iM6nSfyiW5U4ECw1pxceJGcIehwl5iDL3sCvsnCUN3OCgl3BsZrLpmLT32N6Nkb0sqKQOYrdt0/wrwis6DEa5dWBZaY5xdkiHMw9a1luTDfdvuXoQmDFv048V41ndXsLzzVGgbUbnX4aXTC/h6I7rYe/WbUy89sTWMi5OwNrZ/dAD4jm/pJPLtir2HjaTzz9Xg0vPDyYe6bucOYJx/nAquwXl2TQQmDtmKf6mss/RSHxe5TMLfV7rBiF/cNpbtiXCe6vDKydvYOmqgQztLmRnfy2FOdJ1U4OD5dsUik8lyJ82CWBtVMw29msR2F3EF2lrOZfBx4fGVemL56yF5TNHlIH0fWL5qixqJMrvED/9vpkkNmtALZT9Y5PO1j69p5u7z3sZnfNz5jYnd1o1zdEXvFM5PLyrLzn8j2fE2Gu8ihFmZmdLu6w8g/cIwDEVEuF+MXDfB4WgEyrh8+q6dWp+z/JCwAE2TfEKxbVqpP8ASAzCtGzbofSWwIA96kWK5VDdVBLf08AAAAAAAAAAAAAAAAAAAAAAAAAAAAAAAAAAAAAAAAAAAAAAAAAAAAAAAAAAAAAAAAAAAAAAAAAAAAAAAAAAAAAAAAAAAAAAAAAAAAAAAAAAAAAAAAAAAAAAAAAAAAAAAAAAAAAAAAAAAAAAAAAAAAAAAAAAAAAAAAAAAAAAAAAAAAAAAAAAAAAAAAAAAAAAAAAAAAAAAAAAAAAAAAAAAAAAAAAAAD+UJknXSH8SNLdRf/ljHQ70DB+k+4u+i9nlDrKNBpmu9F/cELDQBL9Byc0DCTRf3BCw0AS/QcnNAwk0X9wQsNAEv0HJzQMJNF/cELDQBL9Byc0DCTRf3BCw0AS/QcnNAwk0X9wQsNAEv0HJzQMJNF/cELDQBL9Byc0DCTRf3BCw0AS/QcnNAwk0X9wQsNAEv0HJzQMJNF/cELDQBL9Byc0DCTRf3BCw0AS/QcnNAwk0X9wQsNAEv0HJzQMJNF/cELDQBL9Byc0DCTRf3BCw0AS/QcnNAwk0X9wQsNAEv0HJzQMJNF/cELDQBL9Byc0DCTRf3BCw0AS/QcnNAwk0X9wQsNAEv0HJzQMJNF/cELDQBL9Byc0DCTRf3BCw0AS/QcnNAwk0X9wQsNAEv0HJzQMJNF/cELDQBL9Byc0DCTRf3BCw0AS/QcnNAwk0X9wQsNAEv0HJzQMJNF/cELDQBL9Byc0DCTRf3BCw0AS/QcnNAwk0X9wQsNAEv0HJzQMJNF/cELDQBL9Byc0DCTRf3BCw0AS/QcnNAwk0X9wQsNAEv0HJzQMJNF/cELDQBL9Byc0DCTRf3BCw0AS/QcnNAwk0X9wQsNAEv0HJzQMJNF/cHJXw7Ta7c6yXdhetW/bR/dJXqerejSM72z/BZ3W7jtGSSe4TaLh2vaeBsPe6KjT1f8SWNtoZWD1u0OljToLu5DAwmMx/dc2naaORwOH1LK3GZ6cthKBpe+pF3SWWqe3CKwcWhlYQVwdj0fHQUu053fhIwVWv92iYXwXxUyv19N/ICdnDlEy7PWOzd9U/W3HTLdOgnbtHE3Uyf2tSGDl0qrAOlPK9E5rooY/KLBoGMSBpfd1/zTIrNP1O6Orc2pwotRJfBTQUyfxjwisbbQqsOyeDwx6YzNPbw263VaYOf3BeBRO3vvdcW902kmEUbt7MrKpNOi2+2fdvr5Sd5y48Ym9cbs7MNfpDMYn3T4N46VkYAXxcxwmVuds1DPHeq1umD3tbne+M8ILxub4L+ix4DpD1ev+p+CIcKx7K2iu3vi0H7XiQDdZZzDqjQYde1k/aL1x9BdUN3gYfNPb0X9Zsyqwxmoyc8B2qufek4HZhacTFS0SDCZ2JaEVBVbHrnxN2ib09DpYW3dUNHOPbqzT0Kxh9dTITOtXHQvQMNttNrB0+wyP4kWt4Mt+ONMPDvbGKwJL91ff3EfX3Oo/K9ue/WMVd1bQZhPdiq3wspa57Mw067Af3knYttHtBvRfBq0KrKBRhonl9mB3jttB1ozMYuek2w72/5m51qTbGpvWsoHVDRqkPzg2idRTQ3U86reClGr1B+bHuj+CGyvVigMr6K2z4B4mBJaP5gJLZ05fL6D22v2gxQY6qMxUv7OwmDANrLb+Ut9Hv30ctOl/Cb48bbd0a522z47NHfbURPWCif0waM92kFOTjmm9yUg38qmd2pm+HBzN3I7+y5qVi+4j87TNWSeKr7btJr0LTbb0dHiNbar1zY421+mZP0xBy3TM1U/Nrcwq2GA8mL1xFFjhDZZPsWiY7TYfWGe6i9o9ExYj3SAD00rBf4YLndFNfmnvo2cuNJ3Ytp11dKx7LWyzgZ1bBfO4U3NZ3/wtPtEPO+mbmx/Ht+uZKR39lzErA6tzamfG4zPTRiZnOvpkGXs8F8WNXema6D5J/g0MZ1umI4IOGE8vHx9FrRgF1nz7EVgemQ+sVqKLBuZiM88KYud0oTPijjleFljdIHxsox6bGVbHhFMvPGDo2XQ6Mosd8Sk2/XYn+vsaXD6h/7LnrhNH+4OxPshvhwETN8ogDqyoaXr2G91q7W4vELZML/ypGo7PFm4cBtbwKJ5zEVjemQ+stlktODod9cw5C+aP27GZw/cXOuPuGdZYTXQn2nvp2Vbs6VMhzBkUvbjl2vbncfuNkrej/7LmvpdGtCZ2344TjdJOBFb7aPabkTkDcDaw9GqEXuyau3EYWFGoLT/Tj4bZbkvWsI7CpfEwMkxWnUZPWi8LLDMrWwisnopFlycum8SXmRtOpuk3czv6L2vufS3XqX2eLznDSgbW3AyrZZ+B6c8EVuBsNAwX3RcC6/ieGVap+KMVytJ7wV/zgXWi+2Fkn4Pu2ot1sBwvLnFOA2sQPUs4E1gnyT+BcWCdLFy2OMM65g9mdq0IrLNRdDJeR6+cn4ZP4ukXFyYzJ5p5hU8ftnWPndkWas+99qY/0c2yJLBUeA+r1rBU5UdTqlGpSe8IT80F1sDE0NA+lxP2xkAN+wtL7onAsgcBS9awEq0dhtM4eT/JwAr/IuvT5bt2lZ/AyqYVgdVW0Z8cc5JL364sDPTSZTJzxvavUSd+ljC84MRcEAZWt9eyNxguD6y2vQfBZwnLhQO1X5XeFV6aDaxTe4KM/esV9ISNjuBP3ZL5dxRY7YlpzmXPEppeG4xacTgNwqWw7qg/G1iDaFH+OH7CemBOfyawMmbVIaE+W3jQ75+NVHhKlRr1B8PEk4EmbvTZWoNOdxKfh9XSezu43lD1OlFgBXPsM9NXg+WBNel2TifS52HVGs2S9L7wURRY7Xb7bDwJT+kcqWGrP5oMw6do9Lpof0lnjIMb6aUGEzwLgaWfGRz1O4Pw3CqbbkPdbf3TcJFrGlj2B9HlatzvnNkHJ7AyZuUaVrz2aF6ZE54hrGfqyczRf7Jmz3S3J7oP9KnK8SHhcXze8rLAGoU3kQ2sneqBIrE2L/luDSp6VWArPB09XMvqL33vhfg29tX5i4EV9qy5JAqslm02020zgdWaqOjlG9HtRhvtP6xn9aJ7/1Q/uTsO/7R1uie9kT20605fCahf69XrndjXYNkfDE56+mWDp+alXTaF9AvDhvYc1OSNzT9d1e3ru171mugNNsxBk6PCjbNPBHat+D2xgt47GfSDprMdNFn25yy8zSDsnL55reGg2552Wed0HPSmPS7stqd9HL4jTXiZvaFp5FH4arTgdr3wBgRWxki/42P3nhfWb7Bhqo196b3hn3X6b7BqvWADCKyMIbCmaornCjdtjf5rTdQjvX3oAxBYGSMfWOM7f77RhjmoSO8O79zbf91JtILV7iYMjjaDwMoY+cC6+71sN9owhYb07vDOvf3XU8PwlMCuSnikd0C+F4GVMdKBdd/7JG+0YcqKc9437N7+c/1sikdGYGWMdGBlq2FUQXp/+Ib+gxMaJqlSl94fvqH/4ISGSaqz6r5h9B+c0DBJRQJrw+g/OKFhkgisTaP/4ISGSSKwNo3+gxMaJonA2jT6D05omCQCa9PoPzihYZIIrE2j/+CEhkkisDaN/oMTGiaJwNo0+g9OaJgkAmvT6D84oWGSCKxNo//ghIZJIrA2jf6DExomicDaNPoPTmiYJAJr0+g/OKFhkgisTaP/4ISGSSKwNo3+gxMaJonA2jT6D05omCQCa9PoPzihYZIIrE2j/+CEhkkisDaN/oMTGiaJwNo0+g9OaJgkAmvT6D84oWGSCKxNo//ghIZJIrA2jf6DExomicDaNPoPTmiYJAJr0+g/OKFhkgisTaP/4ISGSSKwNo3+gxMaJonA2jT6D05omCQCa9PoPzihYZIIrE2j/+CEhkkisDaN/oMTGiaJwNo0+g9OaJgkAmvT6D84oWGSCKxNo//ghIZJIrA2jf6DExomicDaNPoPTmiYJAJr0+g/OKFhkgisTaP/4ISGSSKwNo3+gxMaJonA2jT6D05omCQCa9PoPzihYZIIrE2j/+CEhkkisDaN/oMTGiaJwNo0+g9OaJgkAmvT6D84oWGSCKxNo//ghIZJIrA2jf6DExomicDaNPoPTmiYJAJr0+g/OKFhkgisTaP/4ISGSSKwNo3+gxMaJonA2jT6D05omCQCa9PoPzihYZIIrE2j/+CEhkkisDaN/oMTGiaJwNo0+g9OaJgkAmvT6D84oWGSCKxNo//ghIZJIrA2jf6DExomicDaNPoPTmiYJAJr0+g/OKFhkgisTaP/4ISGSSKwNo3+gxMaJonA2jT6D05omCQCa9PoPzihYZIIrE2j/+BEZd4mq0FgbZp0d2Wr/3Av6XbIVsMQWJsm3V3Z6j9sXq53MIGVd6ogvQXIFwILgtiDcENgQRB7EG4ILAhiD8INgQVB7EG4IbAgiD0INwQWBLEH4YbAgiD2INwQWBDEHoQbAguC2INwQ2BBEHsQbggsCGIPwg2BBUHsQbghsCCIPQg3BBYEsQfhhsCCIPYg3BBYEMQehBsCC4LYg3BDYEEQexBuCCwIYg/CDYEFQexBuCGwIIg9CDcEFgSxB+GGwIIg9iDcEFgQxB6EGwILgtiDcENgQRB7EG4ILAhiD8INgQVB7EG4IbAgiD0INwQWBLEH4YbAgiD2INwQWBDEHoQbAguC2INwQ2BBEHsQbggsCGIPwg2BBUHsQbghsCCIPQg3BBYEsQfhhsCCIPYg3BBYEMQehBsCC4LYg3BDYEEQexBuCCwIYg/CDYEFQexBuCGwIIg9CDcEFgSxB+GGwIIg9iDcEFgQxB6EGwILgtiDcENgQRB7EG4ILAhiD8INgQVB7EG4IbAgiD0INwQWBLEH4YbAgiD2INwQWBDEHoQbAguC2INwQ2BBEHsQbggsCGIPwg2BBUHsQbghsCCIPQg3BBYEsQfhhsCCIPYg3BBYEMQehBsCC4LYg3BDYEFQnT0IJwQWBFXq0luAfCGwIEjVpLcA+UJgQU5J7UpvAvKFwIKcvab0FiBnCCzIqRxIbwFyhsCCmD1Vlt4E5AyBBSllVZTeBOQNgQUh1UN2H1wRWJBRPmzwFCFcEVgQUVQV8grOCCxsXnnvkPUrPASBlQHlQtEj9YpSjQOeH8RDEFjS9oLxqyo+qdc4GMQDEViydiuK8Qusi8ASVWg0S9LbAOQHgSVpT9Wr0tsA5AiBJWi3wVNlgAsCS1ClyfwKcEFgyakp1q8AJwSWnMq+9BYAOUNgyeH9gQFHBJaYMu8PDDgisMQUGtJbAOQNgcXWA7lBYLH1QG4QWGw9kBsEFlsP5AaBxdYDuUFgsfVAbhBYbD2QGwQWWw/kBoHF1gO5QWCx9UBuEFhsPZAbBBZbD+QGgcXWA7lBYLH1QG4QWGw9kBsEFlsP5AaBxdYDuUFgsfVAbhBYbD2QGwQWWw/kBoHF1gO5QWCx9UBuEFhsPZAbBBZbD+QGgcXWA7lBYLH1QG4QWGw9kBsEFlsP5AaBxdYDuUFgsfVAbhBYbD2QGwQWWw/kBoHF1gO5QWCx9UBuEFhsPZAbBBZbD+QGgcXWA7lBYLH1QG4QWGw9kBsEFlsP5AaBxdYDuUFgsfVAbhBYbD2QGwQWWw/kBoHF1gO5QWCx9UBuEFhsPZAbBBZbD+QGgcXWA7lBYLH1QG4QWGw9kAPloqb0P2XpbXmg3A75gq76v/178E9BelOAfNhVsV3pbXmg3AZWPS79T9KbAuTEP6JB8w/pLXmo3AZWOQ6smvSmADlR/9mOmZ/r0lvyULkNrOkfC+kNAfIi/jOf1yWsHAdW9Mfin9IbAuTGL3bQ/CK9HQ+W38AKFxB/3pPeECA3fsr7um9+A2vnP3I+uQU2rpz3QZPjwNrL+eQW2Lxfcj5ochxY9pjwV+nNAHLkX3rQ/Et6Kx4ux4G18185qQFwU8v5oMlzYBX084RV6a0A8uQ3pX6T3oYU8hxY1SCv/pv0RgC58mu+l1HyHFg7/1Q/F6W3AciVWq6PCPMdWIU8Pz8LiPgtz0eE+Q6saq6PxgEJv+b5iDDfgZXz2gMCCrl+P6Z8B1Yt17X3hMo86QpRv/VtNrCkK5ut2ntCepfmfadLVydb9SOw5GrvCaWOMi3rO12p3zNtuwNLurpZqr0nCKy09ZMeFlkaNASWXO09QWClrZ/0sMjSoCGw5GrvCQIrbf2kh0WWBg2BJVd7TxBYaesnPSyyNGgILLnae4LASls/6WGRpUFDYMnV3hMEVtr6SQ+LLA0aAkuu9p4gsNLWT3pYZGnQEFhytfcEgZW2ftLDIkuDhsCSq70nCKy09ZMeFlkaNASWXO09QWClrZ/0sMjSoCGw5GrvCQIrbf2kh0WWBg2BJVd7TxBYaesnPSyyNGgILLnae4LASls/6WGRpUFDYMnV3hMEVtr6SQ+LLA0aAkuu9p4gsNLWT3pYZGnQEFhytfcEgZW2ftLDIkuDhsCSq70nCKy09ZMeFlkaNASWXO09QWClrZ/0sMjSoCGw5GrvCQIrbf2kh0WWBg2BJVd7TxBYaesnPSyyNGgILLnae4LASls/6WGRpUFDYMnV3hMEVtr6SQ+LLA0aAkuu9p4gsNLWT3pYZGnQEFhytfcEgZW2ftLDIkuDhsCSq70nCKy09ZMeFlkaNASWXO09QWClrZ/0sMjSoCGw5GrvCQIrbf2kh0WWBg2BJVd7TxBYaesnPSyyNGgILLnae4LASls/6WGRpUFDYMnV3hMEVtr6SQ+LLA0aAkuu9p4gsNLWT3pYZGnQEFhytfcEgZW2ftLDIkuDhsCSq70nCKy09ZMeFlkaNASWXO09QWClrZ/0sMjSoCGw5GrvCQIrbf2kh0WWBg2BJVd7TxBYaesnPSyyNGgILLnae4LASls/6WGRpUFDYMnV3hMEVtr6SQ+LLA0aAkuu9p4gsNLWT3pYZGnQEFhytfcEgZW2ftLDIkuDhsCSq70nCKy09ZMeFlkaNASWXO09QWClrZ/0sMjSoCGw5GrvCQIrbf2kh0WWBg2BJVd7TxBYaesnPSyyNGgILLnae4LASls/6WGRpUFDYMnV3hMEVtr6SQ+LLA0aAkuu9p4gsNLWT3pYZGnQEFhytfcEgZW2ftLDIkuDhsCSq70nCKy09ZMeFlkaNASWXO09QWClrZ/0sMjSoCGw5GrvCQIrbf2kh0WWBg2BJVd7TxBYaesnPSyyNGgILLnae4LASls/6WGRpUFDYMnV3hMEVtr6SQ+LLA0aAkuu9p4gsNLWT3pYZGnQEFhytfcEgZW2ftLDIkuDhsCSq70nCKy09ZMeFlkaNASWXO09QWClrZ/0sMjSoCGw5GrvCQIrbf2kh0WWBg2BJVd7TxBYaesnPSyyNGgILLnae4LASls/6WGRpUFDYMnV3hMEVtr6SQ+LLA0aAkuu9p4gsNLWT3pYZGnQEFhytfcEgZW2ftLDIkuDhsCSq70nCKy09ZMeFlkaNASWXO09QWClrZ/0sMjSoCGw5GrvibsCq9Nu358orRaBtdKT8yePOQLO9aOdO41TAmuNkkYu1OVj7q6s924urQys1slEBSbj/h2Jdmqu1Ov+uNDK+k6/a9Ao6+mz87V7/MmdV00E1pPz5xkcNIWNPtpDAuuFUi/DL1++/P3ewHqy/q6Trr0nVgVWV4dVr6f/HazMq2OdVvqfSYfAWtawry4uXunMulgvXX7//fWdY9CMrufn5+aK6w2lzdavrMoZqf0KfwQ740349auL+wPrIs0kLuu9m0srAmug1LGZNrWDKdSKA8MgryZn+r9nE3X8oxIr6zv97sAyofLkjVJXa/b4q/sDKxpJWQysnUYhI7Vf4Zl6pp6Gfz3UGoH1lMDKmOWB1RmqXif+8jj4T7fb7w/G4+Sx30k8sTpTqmvSrXsysuk26LY7g/HorHPUPz3pmqt1u53W6cl40DFXtNO24F6Df/vd7mi0IhWzvtPXCCw9EJ4FQ+PSptbl5RP9z/MnV89eR0cn528v3+r/XCoV/PjJpR0355c28K5eP7t6EgeW/qm+4pvL/x5eL75r+UFTOchI7Zd7otSTF/avx9Ub9UJXMriTl5cXV88TgXV++ezZpd41V3Z/6K9eX7x+67oemfXezaXlgXWamFYNzNdKnZo1reNklnSjL89aNtrMqpe+ZU+N9KGiGrX0rSZde3Xzcz0Z66peeBdte/Spjy23N7De6mtdmr/o4aVKvX2qf+lX+pLnF+bLl8FVtPPor/6lGT9vbXme/Z5Yw7JX/B/Reswr9Tojg6amatmo/XKvg4Jf2qKbmitdzSuz0Pg2Cqznb2zBL6PrnP/+8pVdjHRc0Mp67+bS8sDqzgbTqf4niJ32WKmz6OKWUp25Gw3P+oNjNTaBNVHds+Dqk0n3rKeGR+E9nAWhNpoNrE6QZK3+YKIfJfOBVd5dqN8agRX8MV8ILPX08vyN+frJq+DrP4JDlfMnb3VcPZ8JrOdP1euXL988VU8SgfUk+Oft+fNXdj1GzxuyMmj2G9VM1H65p+qtrpaO+Zdv1avzc11NdfHHHxd6D9nA0pPX8/Nn+jD+pd0fOrjenv/x4o4yZ6L2XlgeWL3kfKenIyZcWO+ZOApnYZO5G5nl+bbJsZ6doinzTV+pvv562LcHkrOBNbD3czbOQ2AV1T/qM+vK6wTWk6c6WOYCy6ykmKlR8Cdff/0iuJKNqpnAunr1wk4IXs88S2ju5Uo9tdd7lZlBU23+sIPCovqPvZnMcg6sYC71XK9jmZg/j9aw9HfPTYrpwHr+1P5YT8am+8McRb5yPOshY727HVYFVjf5TU8Hx4n+ejRNstHKg7ggqsY2hY7tdZQaxPcw0OmVDKwgzsZHK2VspxeV+ln98tM0s+4OrLfn5+dv35jDivnACkfFhR5A5oBOP4O+JLBC5tbzgRUMrj9M1F3dsQ0brlBJHfygOZapfTKznAPrwlT9yv6xiANLlzCo4aUNrPNwHnWuw83WOvqD8DrcgwSWoFWBNZ77xmTOdGpkjwDnbtXu9nq9XrgudZIIPvOfaGFe/3xmDSs4cBzatfhcBJbxy79qUf3uatjQq5e/LwTWVRxD+jgltCywnr99c3Fx8WJZYAXHms+Cg5v4ea9MDJpSs/Fj1rFs7YPMKpbvr/0y4cFgUPCrZGBN19v1P8Es7MLQFba1vlBPzSWv7ISWwJK0PLDGydnT0MZNey6wzuZvOjJL6lFgTZNK/6cd38PRQmB1RkNzhmqeAivw26+1nfsC681l4I/z3+NwmgbWeXyZmp6hsCSwXr7Q610rAuulHm6v4zOLsjFoqvvqoPADzseKa/9zeFzuGlivwyx6amZM5zOnNcSBdTndw9PAihFY0lYtuk9PBe2bhfbFwGolnknstM3UadIyV18VWKfxzcK76Ud30e4OwylcfgLLZFZhrUX3ZGA9XxJYK2ZYb8Jnqt6Yr5cFVnAk8zb4/8u7tkGgSrVKQ6lKvfi4/mei8kFm/VR2zI/nT6e3f7kysK6S9xoFltuhIIH1Ay0PrH7ilIWxCa/FwApmXvHXx2qkz07QzyAOVgfWODwkjNewBtPM6xwvHGGGgZVhjoFlVkKuFgLrIlrDehkOkJfxoculzrdXNpmWBtbb4HDTPMGVtUFTLtQrj+x/pQysq/Dozz6/sSqwzpN7LVrDetjpowTWD7DiTPexis4y6NqvlgRWED2jTnTtVvCPORXixEyVlgbWsT1wHJqkCq8bzLZ6bRtek2UbkrGd7nhImAysP+xV3ywEVvgs4YV9lvDJ79GqlnkC64ldFA4y7MWywAry7Nl0grbdgybtIeErcy6bjfmnekH9xbLAev7UPtXx8s0f0QrXVVjsq9cvnR5wi2qfHSsCqzNR6uS03e72wpxZElg6b4677bPxxGRUS8+wBkM1VCed5YGlhoP+iTkPqxNMt1pt/UrFtj494qxz1Bomn5jMfGCtueh+Pvvts5fnF2ohsILQeXH15FJn1fMX6tn5kyDUXl09v3z61D6H+OzJkzfqRbykYoeYvaLJP/Xcj0GTctH9Zfh8oI35K/2n4HJ6zlscWHo+9SwotZmFPXmqXp8/D4r99PLJk6vpHRBYYla9+LlzEv096x6tCqzoHPXwOvZE90Ew8VIrDgnNFczLDu2X9pAwfKTlL6DO2E53PK1hJrDsGdRvFwLr9ytbgNfhl+awJPDKPI1uf/hKnw1/mQisP8wV4/OIfBg0KU9reJM4dH6jj7Nfq8SrCqaB9fyZ3R0XdgeZM91f2IveujzeVtU+O1a/H1arO+71xqfhu8vYV/3FLwIM9U+D6/S64XUGJ+aNZk673eB69jgv+o85cbTdHvVOTm0utca9Udvea+es21t5XkPGdrrTiaP2ZWiJv/GvL17/Eb2W0J7sY18EGPzgInyl2ttL/QLC51cXz66e258+eX3x5ur57y+DH5gXGYavNLRX1JOFO//sZ6x+6Wqf6sTRt5fTQgXFfP7788vE6zavdDWvLsNDv4tgR5l5q7mOPrXk2cWzt65vNbNFtc+Ozb3j6Mp3fbjnVtIVmvEILw95XJd3Lrlv1aDJXO3vs0W1zw4CK239RMfE+dN7Xi6S9frluPb32ubaiyGw0tZPcES8fnrPCtZ2DxoCy0MEVtr6CY6IC/Xi2T3vZZr1+uW29mvY5tqL2VxgtdsPeVfSrO900UGzxrudZL1+ua39Gra59mL4mK+09ZMeFv4OGmrvIQIrbf2kh4W/g4bae4jASls/6WHh76Ch9h4isNLWT3pY+DtoqL2HCKy09ZMeFv4OGmrvIQIrbf2kh4W/g4bae4jASls/6WHh76Ch9h4isNLWT3pY+DtoqL2HCKy09ZMeFv4OGmrvIQIrbf2kh4W/g4bae4jASls/6WHh76Ch9h4isNLWT3pY+DtoqL2HCKy09ZMeFv4OGmrvIQIrbf2kh4W/g4bae4jASls/6WHh76Ch9h4isNLWT3pY+DtoqL2HCKy09ZMeFv4OGmrvIQIrbf2kh4W/g4bae4jASls/6WHh76Ch9h4isNLWT3pY+DtoqL2HCKy09ZMeFv4OGmrvIQIrbf2kh4W/g4bae4jASls/6WHh76Ch9h4isNLWT3pY+DtoqL2HCKy09ZMeFv4OGmrvIQIrbf2kh4W/g4bae4jASls/6WHh76Ch9h4isNLWT3pY+DtoqL2HCKy09ZMeFv4OGmrvIQIrbf2kh4W/g4bae4jASls/6WHh76Ch9h4isNLWT3pY+DtoqL2HCKy09ZMeFv4OGmrvIQIrbf2kh4W/g4bae4jASls/6WHh76Ch9h4isNLWT3pY+DtoqL2HCKy09ZMeFv4OGmrvIQIrbf2kh4W/g4bae4jASls/6WHh76Ch9h4isNLWT3pY+DtoqL2HCKy09ZMeFv4OGmrvIQIrbf2kh4W/g4bae4jASls/6WHh76Ch9h4isNLWT3pY+DtoqL2HCKy09ZMeFv4OGmrvIQIrbf2kh4W/g4bae4jASls/6WHh76Ch9h4isNLWT3pY+DtoqL2HCKy09ZMeFv4OGmrvIQIrbf2kh4W/g4bae4jASls/6WHh76Ch9h4isNLWT3pY+DtoqL2HCKy09ZMeFv4OGmrvIQIrbf2kh4W/g4bae4jASls/6WHh76Ch9h4isNLWT3pY+DtoqL2HCKy09ZMeFv4OGmrvIQIrbf2kh4W/g4bae4jASls/6WHh76Ch9h4isNLWT3pY+DtoqL2HCKy09ZMeFv4OGmrvIQIrbf2kh4W/g4bae4jASls/6WHh76Ch9h4isNLWT3pY+DtoqL2HCKy09ZMeFv4OGmrvIQIrbf2kh4W/g4bae4jASls/6WHh76Ch9h4isNLWT3pY+DtoqL2HCKy09ZMeFv4OGmrvIZV50hWiflklXVmfay9GepfmfadLVyfv9aP2QJ7R5GJUQXoLgLwhsMQUK9JbAOQNgSWGwAJcEVhiCCzAFYElhsACXBFYYggswBWBJYbAAlwRWGIILMAVgSWGwAJcEVhiCCzAFYElhsACXBFYYggswBWBJYbAAlwRWGIILMAVgSWGwAJcEVhiCCzAFYElhsACXBFYYggswBWBJYbAAlwRWGIILMAVgSWGwAJcEVhiCCzAFYElhsACXBFYYggswBWBJYbAAlwRWGIILMAVgSWGwAJcEVhiCCzAFYElhsACXBFYYggswBWBJYbAAlwRWGIILMAVgSWGwAJcEVhiCCzAFYElhsACXBFYYggswBWBJYbAAlwRWGIILMAVgSWGwAJcEVhiCCzAFYElhsACXBFYYggswBWBJYbAAlwRWGIILMAVgSWGwAJcEVhiCCzAFYElhsACXBFYYggswBWBJYbAAlwRWGIILMAVgSWGwAJcEVhiCCzAFYElhsACXBFYYggswBWBJYbAAlwRWGIILMAVgSWGwAJcEVhiCCzAFYElhsACXBFYYggswBWBJYbAAlwRWGIILMAVgSWGwAJcEVhiCCzAFYElhsACXBFYYggswBWBJaZOYAGOCCwxlbr0FgB5Q2CJUTXpLQDyhsCSUlK70psA5A2BJWWvKb0FQO4QWFIqB9JbAOQOgSVkT5WlNwHIHQJLRlkVpTcByB8CS0T1kJOwAHcEloTyYYOnCAF3BJaAoqqQV8ADEFibVt47ZP0KeJjcBFa5UNwC9YpSjQOeHwQeJh+BVas0lKpsg3qNg0HgwfIQWNV9dVBgVgIgB4FVajZ4mTCAnTwEVkkdVKW3AUAmZD6wqk1ecwfAynxg7TeYXwGwsh5YNd7mDkAk64HFm7AAiGU9sBoF6S0AkBkZD6wy7xoFIJbxwCpkfPsAbFLGA4EPGwUwRWAByA0CC0BuEFgAcoPAApAbBBaA3CCwAOQGgQUgNwgsALlBYAHIDQILQG4QWAByg8ACkBsEFoDcILAA5AaBBSA3CCwAuUFgAcgNAgtAbhBYAHKDwAKQGwQWgNwgsADkBoEFIDcILAC5QWAByA0CC0BuEFgAcoPAApAbBBaA3CCwAOQGgQUgNwgsALlBYAHIDQILQG4QWAByg8ACkBsEFoDcILAA5AaBBSA3CCwAuUFgAcgNAgtAbhBYAHKDwAKQGwQWgNwgsADkBoEFIDcILAC5QWAByA0CC0AOlIua0v+UpbdlJQILgLarYrvS27ISgQXA+EeUV/+Q3pLVCCwARv1nm1c/16W3ZDUCC4BRjmZY2V3CIrAAhH6xefWL9HbcgcACYP1kA+sn6e24A4EFwCpn/oiQwAIQ+SXrR4QEFoDIv3Rg/Ut6K+5CYAEI1XRg1aS34i4EFoDIb0r9Jr0NdyKwAER+VepX6W24E4EFIFLL+BEhgQVg6rdsHxESWACmfs32ESGBBWCqUJDegrsRWECOqcx73N+XwMoW6e7adP8hJel22HTDEFjZIt1dm+4/pKTUn5lGYG03pY4yjcDKGAILkggsOCGwIInAghMCC5IILDghsCCJwIITAguSCCw4IbAgicCCEwILkggsOCGwIInAghMCC5IILDghsCCJwIITAguSCCw4IbAgicCCEwILkggsOCGwIInAghMCC5IILDghsCCJwIITAguSCCw4IbAgicCCEwILkggsOCGwIInAghMCC5IILDghsCCJwIITAguSCCw48S2w6gRWphBYcOJbYFWK0hVHEoEFJ74FlqpJVxxJBBaceBZYZbUrXXEkEVhw4llgFRrSBccMAgtOPAusCmvu2UJgwYlfgbWnStIFxwwCC07yFljVQorI2W3UpeuNWQQWnOQqsKqFfyqV4ryESrMqXW/MIrDgJD+BZdJKpQis3YoqS5cbcwgsOMlJYOm0+lmlCqy9xiF5lTkEFpzkIbB29+K0emBgVUvFSppjSfwoBBacZD+w9v53Iq0C/15x1lTqcJ/pVRYRWHCS/cAq//RLMq/UvxXdlVhszygCC06yH1jBRpbr/5jOsjiy2yYEFpzkIrAC5b3/ILC2EIEFJ3kJrB299v5/9DyLwNomBBac5CiwduzzhQTWNiGw4CRfgRWo8v4w24TAgpPcBRa2CoEFJwQWJBFYcEJgQRKBBScEFiQRWHBCYEESgQUnBBYkEVhwQmBBEoEFJwQWJBFYcEJgQRKBBScEFiQRWHDyowLr3fX1NYGF+zx6YA26bQJri90TWO+D3PkQJdD7+0Lq483Np+uPn/XXH9TjRCENs91SBNagawxaM5f2VJfA2mL3xMpNkDu3f4YJdHN3XN2Eb1h1+4HAwppSBFYvekvH3lni0lFvQGBtsTUCS12vFVjX+qo3X/S/HwksrCdVYI3b7dPuaKLUo2YUgZVl6wTWl8+zgfXu3ZJrfg6i6lM4tbqNA+tr4hpfPxNYmJMqsOzBX6enTpb8uNUnsLbQ/YEVBNFficD6YDLs72/z1/wYXGpWuz7efL+2gfX5r1t1e23T7ePf+mafgm/+Uup7cMGn4Nt3JpHUuzs2gIbZbo8QWEcDpfpHbTVs9Sbd8NKWOV480ZnVDQ4ZH76wRf9lzP2BpZPlaxxY19HCwV9z13ynp2LTCZUOrL/MFf+OZ2ratz/f2zvSx47vzfVumWH56zECq61UW/8ThFQYWO3gMHE4VGrS0oF1PFQE1ra4P7CuP5mEsYH1VcfS9fWXaDo1e1X15fu3z9PAUrfflZ1A6Zi7ff+XObz8bA4Wv4ahd70YfQSWRx4jsEZqYlJLnbbDS3tqOAhmXkM11oEVfNN66IPQfxmzRmC9MxMjG1if7IpWtGCV9CGcQ/39/nM0w7Lzro9mOnUTXvjxz7912AVBdaPnVp/0fRNY3kofWJ3uRK9hBYE1ji5tKWWeODxVqqMD6/TBj0FgZc0agaXD5TYMrNtwJUuvbc1f98NfX2xkfbFHkCaJ/tY3+Bo91WhS7LtOrSCt3uvJV3CTO9fiaZjtliqwhr1A0FPHLRNYZ1FgBV+bKZU5VuzqFS4Ca1usE1h6PnVtAytKnuvlZy18uL4JD/XMovufZon9xnzzIby7mz+/6dlZcKVg9vX+XbjGRWB5Kv15WJNeNwyneN7VDb/uhIH18LwisLJmncDS6+Rfvq0TWIGvX0xURedhXS8G1udgwvZVr7jfqr/e26cMCSxfpTwkbLU74XezgTWJ4kYH1jGBtT3WCix9JGgPBqO1q0/zh4SfP3z8bpfh35uFqiiwPkWB9TE8JPxkDhO/61D7S335fs8SFoG15R5j0X0hsNrhUWB4SNgjsLbHeoFlF9RvzPfmLITb+fPe9XN/t5+jyde7OLBuoomZfi4wXMv6rk/u+ttO3O47H56G2W4/JLBaOqiO4kV3AmuLrBdY9jyqIHm+mdcKvr9VCzMjfc7C7V/fPn6frmFNA0tfePNVnw3x5Z29E30k+C68UwLLXz8ksIJ/en1z9mjviMDaLmsGVpwt8Rmg80Hz+buKvZsPrM9foh9FTxaavLuNLiCwfPVjAussaKyxXpRvE1hbZs3AsnOk6IhPnzy6eN0Pt/bNGr5//XM+sP78/Gn6Rg429cKnEBfOPyWwvPJjAsuc6q7UUJ/cQGBtlXsC6+uHD/aVfp8/fPgQvvDm67dvX1de/du3P+Prh3cQXvnD+w/RiwbfhT+M/ktgeStFYLXayfOrOu32zKWts/CLfvvBp7kTWNmT4k1gdNzE3j34bggsn/EWyXCSIrCuVcKjvB8ygeUdAgtOcvchFLtl6ZLhERFYcJKvwCrX/6GK0iXDIyKw4CRHgVX+6Rf1syKwtgqBBSd5Cazav34JV8sIrG1CYMFJLgKr9utv0+V9AmubEFhwkv3AKiTTisDaMgQWnOQvsLBdpCOJwMoVl8D6dv+HP6/h/fX1N5fA2uGQcIs9UmD1u4/6ec8EVmY5BJZ+BfP/vUn6uvZtk4Fl37LBJbB2WHTfVqsCa9zrdRxypf2jZmoEVsY4BJZ+a/f/NzObv++FgAtZdaPfXvT2ng/KWRpYO5zWsJVWBE1fuX2cc6u38Arn3sgxm/rLPuSewMqY9QNLT7Def0gVWH+bd27Qb0m69hSLE0e324rAGqlJqnc2DiLM+U0aBss+vJDAypj1A+t7/JGnH5JZ9XVJ9rybTbLo/Rrehe9Q4zLF4qU5221FYE3UIPzkm3D20078MPEuDdP3dJ/+tBPGTxxY/fD9G6ZXnXkDh047CkkCK/vWD6wv5pOaZwPr/afg0r8/6szSnzbx7W/zkRX6fbE+fQ6vZN8l69Nn+7Z9Sj/ee7X+o9Iw2215YA3U8OjEfs6gfoOrwTDomJOOWarqnARfD80nepkv1UQfyJk1rPCnk3FbB02gd9RVI33j4PqjiVJjk1ytY/Oz8GPs9XeTUd98EKtanJXRfxmzdnR8nR7IxYEVHSB+CgPrVr9rwzd72a290sfwKn9/ngbWO4ejSRpmuy0PrJ4aHZ2pScd+HSTO8cSESZAqx2qiAyfIpI7+PPqxMh9DHwXWsRoGPx0GtxqqSW8UJFLwXxNi5mbDI/PefhP9aYaTvg6s4UQFV1UnR63eRA0X173ov4xZO7A+xkeE08D6O/jivX6n9nfxO5G+NxfefLuxa1x64evm61eTZB/+CnLLvGPf7fpvR0PDbLelgdU3h4MTu+weZEuvfdQ/0ZcFkTTpdo4GE/sZ9HpyFfwgCLYosPTUq2Vubd9otBtkUd8s4Xc74Yfp9NQk+HH/OPwY++O2ntBNjubfwZTAyqa1A+t6+jbuUWC9u76+eR+9jbIOrJvPdiamnwu8UeEn0uuPtv9g0i6+i5v1F7FomO22NLDGZsF9ZJfde+FilrKf32WOE82Ho07s1339fGIUWCO7AHaaCKy+uY+JvYtB/DH2Z/oWXftcZN9cRmDlwdqBdbMYWH/adx01n0ZvAuvjn9PPqNff648eVLfXAXMoGAfW93s/LIfA8sSywOpMohhpReEUOA7SqK1sqAz0ZUrn0jTJwo8hjKZKUWAN7SW96Af6StpZ+KnQneguCKxccAms6DAuDqxv0Yfh3EQfR2g/wyv6b+JDdsLp1s38bI3A8tuywAri6ExnytBMoaIPkdChE0VS8N9W9OGDZsErCqyjhcCKkyr8z+m0I6efCk1g5UaawNL//XJzcxsH1p9hUOnTGN5HgfUlPi2ewMK8ZYF1HEeKXnZ//MDqhvrxfZsjQwIrD1wC69NcYH23R3+zgaV/+D78ofkgr+lH2hNYmLcksIIkGtlEMTkyPSQ0x3On8QLUskPC+wOrnTy/axpYbQIrH9YOrO+La1g35tPp36mZwHpnT3N4d2u+/2gPEN991M8OhivwM+thBJbflgTW2K47HYWL7+G6+dyi+0SvrZsl9plF9/sDqxXlXIvAyiOXZwn/XjLD+qTPatCfqxoFllm2uv3+xZ5ypU9ruH3/8Yu5sT5KvP7weebwksDy22JgdSZhotgjv/DMhI7JrbY9T9Subi07rSEZWJOlgRX8o89ksM9BzgTWybIX89B/GbN2YH1T9tOaE4H11S40XOszrz7EgfXBrsTf2O+jE0f11OpduPj+OXwikcDCYmCdhs/caTqYuuo4mFclThwd6hNBW8tPHJ0GVn+ijnvLAkt/KHRvdGzuYiaw2vpyAivj1g6sRMrEzxJ+v9WTKRNc08D686s+4vv4LVrT0seGX/4yLyfUM63glonsI7A8txhYQ3WSCK9JECrdgf7g+V740hy9JG8+g/6o0zML82dHywJLz8zUssCKXppzNn9IGEyxeGlO5q3/qr6lC09fV74l1nV8ZvznD1/XuCcCy0v3v4+VCZXwRc59ffVO4sXP7ZmPq19X9LH2a6D/Mmb9wJp5j4Y7/HXz5farmVh9T3dHBJYH1gysaX48IJ/SoP8yxuEN/NacGH03L4dWq9epXCZYBNaWI7DgxCGw1n2ThWu76n674v3fnSZYBNaWcw6shxwCEljbw+VDKK5vbr6vc713f93c3Fx/Xn0v679DMoG15e4PrEHyqbter3Xf9QmsrZb9j/mSrhB+JD7mC04ILEgisOCEwIIkAgtOCCxIIrDghMCCJAILTggsSCKw4ITAgiQCC04ILEgisOCEwIIkAgtOCCxIIrDghMCCJAILTggsSCKw4ITAgiQCC04ILEgisOCEwIIkAgtOCCxIIrDghMCCJAILTggsSCKw4ITAgiQCC04ILEgisOCEwIIkAgtOCCxIIrDghMCCJAILTggsSCKw4ITAgiQCC04ILEgisOCEwIIkAgtOCCxIIrDghMCCJAILTggsSCKw4ITAgiQCC04ILEgisOCEwIIkAgtOCCxIIrDghMCCJAILTggsSCKw4ITAgiQCC04ILEgisOCEwIIkAgtOCCxIIrDghMCCJAILTggsSCKw4ITAgiQCC04ILEgisOCEwIIkAgtOCCxIIrDghMCCJAILTggsSCKw4ITAgiQCC04ILEgisOCEwIIkAgtOCCxIIrDghMCCJAILTggsSCKw4ITAgiQCC04ILEgisOBEZZ50hfAjSXcX/Zcz0u1Aw/hNurvoPwAAAAAAAAAAAAAAAAAAAAAAAAAAAAAAAAAAAAAAAAAAAAAAAAAAAAAAAAAAAAAAAAAAAAAAAAAAAAAAAAAAAAAAAADYTv8fN0ZL/1dVJ9EAAAAldEVYdGRhdGU6Y3JlYXRlADIwMjItMDItMDdUMTA6NTI6MTArMDA6MDCPhsxhAAAAJXRFWHRkYXRlOm1vZGlmeQAyMDIyLTAyLTA3VDEwOjUyOjEwKzAwOjAw/tt03QAAAABJRU5ErkJggg==)"
      ],
      "metadata": {
        "id": "-i_-DCZJ_q2K"
      }
    },
    {
      "cell_type": "markdown",
      "source": [
        "Further, modeling using the BN also require us to acknowledge the underlying Markov property assumption: all dependencies in the network are explicitly shown via the connection between nodes. In our No-Show model, there are no ways for the scholarship to affect \"prior appointments\" except through the way of causing no-show."
      ],
      "metadata": {
        "id": "yp5RbJLAC_Sg"
      }
    },
    {
      "cell_type": "code",
      "source": [
        "# install required libraries\n",
        "!pip install pgmpy\n",
        "!pip install numpy\n",
        "!pip install pandas"
      ],
      "metadata": {
        "colab": {
          "base_uri": "https://localhost:8080/"
        },
        "id": "wYQXK-CjGR3B",
        "outputId": "44fc2812-a929-4323-b173-d7ff2d65effe"
      },
      "execution_count": null,
      "outputs": [
        {
          "output_type": "stream",
          "name": "stdout",
          "text": [
            "Collecting pgmpy\n",
            "  Downloading pgmpy-0.1.17-py3-none-any.whl (1.9 MB)\n",
            "\u001b[K     |████████████████████████████████| 1.9 MB 8.6 MB/s \n",
            "\u001b[?25hRequirement already satisfied: torch in /usr/local/lib/python3.7/dist-packages (from pgmpy) (1.10.0+cu111)\n",
            "Requirement already satisfied: networkx in /usr/local/lib/python3.7/dist-packages (from pgmpy) (2.6.3)\n",
            "Requirement already satisfied: scipy in /usr/local/lib/python3.7/dist-packages (from pgmpy) (1.4.1)\n",
            "Requirement already satisfied: numpy in /usr/local/lib/python3.7/dist-packages (from pgmpy) (1.19.5)\n",
            "Requirement already satisfied: tqdm in /usr/local/lib/python3.7/dist-packages (from pgmpy) (4.62.3)\n",
            "Requirement already satisfied: pandas in /usr/local/lib/python3.7/dist-packages (from pgmpy) (1.3.5)\n",
            "Requirement already satisfied: joblib in /usr/local/lib/python3.7/dist-packages (from pgmpy) (1.1.0)\n",
            "Requirement already satisfied: statsmodels in /usr/local/lib/python3.7/dist-packages (from pgmpy) (0.10.2)\n",
            "Requirement already satisfied: pyparsing in /usr/local/lib/python3.7/dist-packages (from pgmpy) (3.0.7)\n",
            "Requirement already satisfied: scikit-learn in /usr/local/lib/python3.7/dist-packages (from pgmpy) (1.0.2)\n",
            "Requirement already satisfied: python-dateutil>=2.7.3 in /usr/local/lib/python3.7/dist-packages (from pandas->pgmpy) (2.8.2)\n",
            "Requirement already satisfied: pytz>=2017.3 in /usr/local/lib/python3.7/dist-packages (from pandas->pgmpy) (2018.9)\n",
            "Requirement already satisfied: six>=1.5 in /usr/local/lib/python3.7/dist-packages (from python-dateutil>=2.7.3->pandas->pgmpy) (1.15.0)\n",
            "Requirement already satisfied: threadpoolctl>=2.0.0 in /usr/local/lib/python3.7/dist-packages (from scikit-learn->pgmpy) (3.1.0)\n",
            "Requirement already satisfied: patsy>=0.4.0 in /usr/local/lib/python3.7/dist-packages (from statsmodels->pgmpy) (0.5.2)\n",
            "Requirement already satisfied: typing-extensions in /usr/local/lib/python3.7/dist-packages (from torch->pgmpy) (3.10.0.2)\n",
            "Installing collected packages: pgmpy\n",
            "Successfully installed pgmpy-0.1.17\n",
            "Requirement already satisfied: numpy in /usr/local/lib/python3.7/dist-packages (1.19.5)\n",
            "Requirement already satisfied: pandas in /usr/local/lib/python3.7/dist-packages (1.3.5)\n",
            "Requirement already satisfied: python-dateutil>=2.7.3 in /usr/local/lib/python3.7/dist-packages (from pandas) (2.8.2)\n",
            "Requirement already satisfied: pytz>=2017.3 in /usr/local/lib/python3.7/dist-packages (from pandas) (2018.9)\n",
            "Requirement already satisfied: numpy>=1.17.3 in /usr/local/lib/python3.7/dist-packages (from pandas) (1.19.5)\n",
            "Requirement already satisfied: six>=1.5 in /usr/local/lib/python3.7/dist-packages (from python-dateutil>=2.7.3->pandas) (1.15.0)\n"
          ]
        }
      ]
    },
    {
      "cell_type": "markdown",
      "source": [
        "It is simple to define the connections within the using pgmpy. The syntax`('Scholarship', 'Punctuality')` defines an direct connection between scholarship and punctuality. "
      ],
      "metadata": {
        "id": "4uleKDo1f_4j"
      }
    },
    {
      "cell_type": "code",
      "source": [
        "from pgmpy.models import BayesianNetwork\n",
        "\n",
        "noshow_model = BayesianNetwork(\n",
        "    [\n",
        "        (\"Scholarship\", \"Punctuality\"),\n",
        "        (\"On campus\", \"Punctuality\"),\n",
        "        (\"Punctuality\", \"No-Show\"),\n",
        "        (\"Scholarship\", \"Athlete\"),\n",
        "        (\"Day difference\", \"Athlete\"),\n",
        "        (\"Athlete\", \"No-Show\"),\n",
        "        (\"Prior appointment\", \"No-Show\")\n",
        "    ]\n",
        ")"
      ],
      "metadata": {
        "id": "nUHvN_mYE54g"
      },
      "execution_count": null,
      "outputs": []
    },
    {
      "cell_type": "markdown",
      "source": [
        "#### 2.1.2 Define the CPDs\n",
        "\n",
        "Each node of a Bayesian Network has a conditional probability distribution (CPD) associated with it, hence we need to define 8 CPDs. In each CPD we will define the probability of a node when the value of its parent(s) is known. This nature of the CPD indicates that to achieve direct inference, the size of a CPD table will depend on the number of variables of itself and its parents. For example, a node with m possible values and one parent node with n possible value will have a CPD table of size m * n. One can easily imagine, the size of CPDs growing exponentially large as the network grows more complex. In fact, it is this unmanaged size that makes real-world applications of the Bayesian network challenging [1]. "
      ],
      "metadata": {
        "id": "wO9tVBfoH2Zr"
      }
    },
    {
      "cell_type": "code",
      "source": [
        "from pgmpy.factors.discrete import TabularCPD\n",
        "\n",
        "cpd_scholarship = TabularCPD(\n",
        "    variable=\"Scholarship\",\n",
        "    variable_card=2,\n",
        "    values=[[0.3], [0.7]],\n",
        "    state_names={\"Scholarship\": [\"T\",\"F\"]}\n",
        ")\n",
        "cpd_campus = TabularCPD(\n",
        "    variable=\"On campus\",\n",
        "    variable_card=2,\n",
        "    values=[[0.85], [0.15]],\n",
        "    state_names={\"On campus\": [\"T\",\"F\"]}\n",
        ")\n",
        "cpd_day = TabularCPD(\n",
        "    variable=\"Day difference\",\n",
        "    variable_card=3,\n",
        "    values=[[0.75], [0.2], [0.05]],\n",
        "    state_names={\"Day difference\": [\"1 day\",\"2 days\",\"3+ days\"]}\n",
        ")\n",
        "cpd_prior = TabularCPD(\n",
        "    variable=\"Prior appointment\",\n",
        "    variable_card=2,\n",
        "    values=[[0.7], [0.3]],\n",
        "    state_names={\"Prior appointment\": [\"0-5 times\",\"5+ times\"]}\n",
        ")\n",
        "\n",
        "cpd_punctual = TabularCPD(\n",
        "    variable=\"Punctuality\",\n",
        "    variable_card=2,\n",
        "    values=[[0.7,0.6,0.5,0.4],\n",
        "            [0.3,0.4,0.5,0.6]],\n",
        "    evidence=[\"Scholarship\", \"On campus\"],\n",
        "    evidence_card=[2,2],\n",
        "    state_names={\"Punctuality\": [\"T\", \"F\"],\n",
        "                 \"Scholarship\": [\"T\", \"F\"],\n",
        "                 \"On campus\": [\"T\", \"F\"]\n",
        "                }\n",
        ")\n",
        "cpd_athlete = TabularCPD(\n",
        "    variable=\"Athlete\",\n",
        "    variable_card=2,\n",
        "    values = [[0.4,0.5,0.6,0.3,0.4,0.5],\n",
        "              [0.6,0.5,0.4,0.7,0.6,0.5]],\n",
        "    evidence=[\"Scholarship\", \"Day difference\"],\n",
        "    evidence_card=[2,3],\n",
        "    state_names={\"Athlete\": [\"T\",\"F\"],\n",
        "              \"Scholarship\": [\"T\",\"F\"],\n",
        "              \"Day difference\": [\"1 day\",\"2 days\",\"3+ days\"]\n",
        "            }\n",
        ")\n",
        "cpd_noshow = TabularCPD(\n",
        "    variable=\"No-Show\",\n",
        "    variable_card=2,\n",
        "    values=[[0.1,0.05,0.3,0.2,0.4,0.3,0.5,0.4],\n",
        "            [0.9,0.95,0.7,0.8,0.6,0.7,0.5,0.6]],\n",
        "    evidence=[\"Athlete\", \"Punctuality\", \"Prior appointment\"],\n",
        "    evidence_card=[2,2,2],\n",
        "        state_names={\"No-Show\": [\"T\",\"F\"],\n",
        "              \"Athlete\": [\"T\",\"F\"],\n",
        "              \"Punctuality\": [\"T\",\"F\"],\n",
        "              \"Prior appointment\": [\"0-5 times\",\"5+ times\"]\n",
        "            }\n",
        ")"
      ],
      "metadata": {
        "id": "feT9BebrKcKy"
      },
      "execution_count": null,
      "outputs": []
    },
    {
      "cell_type": "markdown",
      "source": [
        "#### 2.1.3 Add the CPDs to the model"
      ],
      "metadata": {
        "id": "KpXcKhE58XzQ"
      }
    },
    {
      "cell_type": "code",
      "source": [
        "# Associating the parameters with the model structure\n",
        "noshow_model.add_cpds(cpd_athlete, cpd_campus, cpd_day, cpd_noshow, cpd_prior, cpd_punctual, cpd_scholarship)\n",
        "\n",
        "# Checking if the cpds are valid for the mode\n",
        "noshow_model.check_model()"
      ],
      "metadata": {
        "colab": {
          "base_uri": "https://localhost:8080/"
        },
        "id": "25-OaR6h8hbW",
        "outputId": "b66fc461-8d7d-4ba2-b2df-03a582b4e954"
      },
      "execution_count": null,
      "outputs": [
        {
          "output_type": "execute_result",
          "data": {
            "text/plain": [
              "True"
            ]
          },
          "metadata": {},
          "execution_count": 5
        }
      ]
    },
    {
      "cell_type": "markdown",
      "source": [
        "The check_model method will loop through all CPDs in the No-Show Model and make sure all conditional probability assignments satisfy the requirement, such as if the sum of the probability of a random variable equals 1. So, with the `check_model` function returning True, we can use the model to develop some insight into different reasons for testing no-shows. "
      ],
      "metadata": {
        "id": "ASkcEhoF_Ki2"
      }
    },
    {
      "cell_type": "markdown",
      "source": [
        "#### 2.1.4 Run basic operations on the model\n",
        "\n",
        "We can know ask questions related with our variables using the defined Baysian network. For example, we can check is two nodes dconnected using is `is_dconnected()` method. In the code below, for example, the nodes \"prior appointment\" and \"scholarship\" are independent with each other, the change in the probability of one of them will not affect the other."
      ],
      "metadata": {
        "id": "xF1Lps_d-K2h"
      }
    },
    {
      "cell_type": "code",
      "source": [
        "# Check for d-separation between variables\n",
        "print(noshow_model.is_dconnected(\"Prior appointment\", \"Scholarship\"))"
      ],
      "metadata": {
        "colab": {
          "base_uri": "https://localhost:8080/"
        },
        "id": "8M9feXTy-P7A",
        "outputId": "a7165558-0ff2-43da-b7c2-636fa63b184e"
      },
      "execution_count": null,
      "outputs": [
        {
          "output_type": "stream",
          "name": "stdout",
          "text": [
            "False\n"
          ]
        }
      ]
    },
    {
      "cell_type": "code",
      "source": [
        "# Get all d-connected nodes for specific node\n",
        "noshow_model.active_trail_nodes(\"On campus\")"
      ],
      "metadata": {
        "colab": {
          "base_uri": "https://localhost:8080/"
        },
        "id": "sy1kovtt_iO-",
        "outputId": "54ba3d1b-abb6-4c68-ba24-06285dc9fd44"
      },
      "execution_count": null,
      "outputs": [
        {
          "output_type": "execute_result",
          "data": {
            "text/plain": [
              "{'On campus': {'No-Show', 'On campus', 'Punctuality'}}"
            ]
          },
          "metadata": {},
          "execution_count": 7
        }
      ]
    },
    {
      "cell_type": "markdown",
      "source": [
        "After looking at different independencies, we can also use the model to infer the probability of No-Show happening when we introduce specific evidence into the model using the code sequence below:"
      ],
      "metadata": {
        "id": "acnlWuxHDgbA"
      }
    },
    {
      "cell_type": "code",
      "source": [
        "# create inference variable that uses variable elimination internally for inference\n",
        "from pgmpy.inference import VariableElimination\n",
        "inference = VariableElimination(noshow_model)\n",
        "\n",
        "# find probability of \"No-Show\"\n",
        "result = inference.query(variables=['No-Show'])\n",
        "print(\"No-Show\\n\", result)"
      ],
      "metadata": {
        "colab": {
          "base_uri": "https://localhost:8080/",
          "height": 285,
          "referenced_widgets": [
            "2f6464db605441c181d3c74bbc1eb71b",
            "38f9f306bd284393b2cf8cefc228eead",
            "91da62e6d6454a4a9d1e1e8dad165793",
            "c194ebf0cd4744f5ba75cee6febcef61",
            "d6acef4933e4404f899e8e9949a529fd",
            "92bc993876794fedb556fce79d889250",
            "4b1da433b05c488eba0fe2f11541edde",
            "49f171b30b674af1a21671c9f07b381e",
            "755b9acb6fe54a14a0a6a565c677ac22",
            "805c4a3960fe482299297f14059099d5",
            "129de1b705f84b36aa152663f6bb6743",
            "876cda8dbc1f4008bbe67a0fab628173",
            "5d58642b3a6a4d36890b8ecadf36de01",
            "263200c41bbf4cab934e8622148be6ee",
            "01383a393a374a309309b54afaad0b86",
            "03af185773ee4bcfb99aed74dc8e81eb",
            "88d56876a7bc4c1cbd22ce9ab8e6d31c",
            "a5d24e00b03e4be0aad6b721125b0374",
            "843c2eb710b546fb9b18a1ad0e3b46a0",
            "888113c4f5034bb098deaa71a48449fe",
            "6dfe2bc140a54c89bb948da282bdfa6a",
            "198ca43ed7e7442a8ae095a35df83703"
          ]
        },
        "id": "hUSnaKGn5_6e",
        "outputId": "12e1385b-784a-4bbe-bb6a-5998eaf3133e"
      },
      "execution_count": null,
      "outputs": [
        {
          "output_type": "stream",
          "name": "stderr",
          "text": [
            "/usr/local/lib/python3.7/dist-packages/statsmodels/tools/_testing.py:19: FutureWarning: pandas.util.testing is deprecated. Use the functions in the public API at pandas.testing instead.\n",
            "  import pandas.util.testing as tm\n"
          ]
        },
        {
          "output_type": "display_data",
          "data": {
            "application/vnd.jupyter.widget-view+json": {
              "model_id": "2f6464db605441c181d3c74bbc1eb71b",
              "version_minor": 0,
              "version_major": 2
            },
            "text/plain": [
              "  0%|          | 0/6 [00:00<?, ?it/s]"
            ]
          },
          "metadata": {}
        },
        {
          "output_type": "display_data",
          "data": {
            "application/vnd.jupyter.widget-view+json": {
              "model_id": "876cda8dbc1f4008bbe67a0fab628173",
              "version_minor": 0,
              "version_major": 2
            },
            "text/plain": [
              "  0%|          | 0/6 [00:00<?, ?it/s]"
            ]
          },
          "metadata": {}
        },
        {
          "output_type": "stream",
          "name": "stdout",
          "text": [
            "No-Show\n",
            " +------------+----------------+\n",
            "| No-Show    |   phi(No-Show) |\n",
            "+============+================+\n",
            "| No-Show(T) |         0.3265 |\n",
            "+------------+----------------+\n",
            "| No-Show(F) |         0.6735 |\n",
            "+------------+----------------+\n"
          ]
        }
      ]
    },
    {
      "cell_type": "markdown",
      "source": [
        "As shown above, the variable elimination algorithm to perform exact inference on the variable in query \"No-Show\". In general, the variable elimination algorithm allows us to compute the marginal probability of the query variable by first calculating the partition function, then computing marginal using unnormalized distribution, and finally dividing the result by the partition function to get the normalized probability distribution [4]."
      ],
      "metadata": {
        "id": "e9rEBNkgNrEL"
      }
    },
    {
      "cell_type": "code",
      "source": [
        "# compare probability of \"No-Show\" given the student received scholarship\n",
        "result = inference.query(variables=[\"No-Show\"], evidence={'Scholarship': \"T\"})\n",
        "print(\"No-Show | Scholarship=T \\n\", result)\n",
        "\n",
        "result = inference.query(variables=[\"No-Show\"], evidence={'Scholarship': \"F\"})\n",
        "print(\"No-Show | Scholarship=F \\n\", result)"
      ],
      "metadata": {
        "colab": {
          "base_uri": "https://localhost:8080/",
          "height": 439,
          "referenced_widgets": [
            "6a3cb1046029453597b9d7152972b2c2",
            "97db12d9e9a64ee2ae6ff903d71e9218",
            "419802908997405fad1248871a471b44",
            "c6f7c9039bd04074a07e88d46047cb21",
            "6868369efbed4b28b0cbc9a1f6b3e40a",
            "e3828083409142209b460ac015051940",
            "5362e1f59aeb45cab34b9992932cb2b6",
            "9949b0756a7947ca870b1511f4063e03",
            "5e124607edd943179cd42d954197d7ee",
            "1612b7a986cb4967a43cb026848673a0",
            "d7cd726259214d63a621994d7da0dc41",
            "81dad6bb64bc411cb99d6c9541c685e5",
            "5742af7b71554efa93b2f89c9c73821e",
            "63ca198e3f6740adaa53ed6d7e36d772",
            "10f489d4c4f74111bea141622851d1c2",
            "417a06fc10884b1d9f6d0fd8dbcc496d",
            "4f68a94f136c49c5b3a81e525914242c",
            "e70c01c66ad84f42856cb7a27cc574c4",
            "a4e96f69234b4feda3aa28856cb37e56",
            "a7e0b6ae9f124abfa3f3264bc00c0286",
            "8d31508d8a4c488584dd29633514e423",
            "7eec87d6fa8d4c19bb1d64f9f5f47874",
            "817839a56e9249118f71bcf626970c9f",
            "768c504cfb0241de9873911cd72df079",
            "d24e110ed75b44e0a3375832cc4bb791",
            "a79dccbe8d2c4b08b221f4587c70a3d7",
            "d52cbced825e40f8b3e8b691882b73b5",
            "1cd783dc3d8046829609bfc42ebe1f19",
            "a92f0fd7fe8b45e6aeb2b02ff0335fdc",
            "e54df0b286314d29aba5ac53ba04617c",
            "7bfe97c6fc7249b68cf703488695a410",
            "cbf4d4b472c94300a2ee14a396c94678",
            "affe898efb804e82b2438aff2c097257",
            "02c199a7ccc14fdc85b618744410c0cc",
            "e759c7d684c9491399be6333a1abf1fa",
            "ca7f9fe30e9f4f6cac90b21c034b99f6",
            "c02da3cc695b42649eae28d788a25b6c",
            "9ab3f8ebfd324ca0abbcc866123609b7",
            "c00cd435782f4592b517692317b5e9cd",
            "f37b05e8f1c64f319fcc4565a62ff6ba",
            "5e3845cc292b48abab68b0eb0312dee9",
            "c91d5cae28e647c0a09444de05a17746",
            "10a7addff02c4bb8bd4ee5bff21b681c",
            "ba2c263401bd4a92b8189afb3e244e21"
          ]
        },
        "id": "Nat3eauF8fMr",
        "outputId": "b74d5ad2-4042-4073-f9c9-4b1bd057dd54"
      },
      "execution_count": null,
      "outputs": [
        {
          "output_type": "display_data",
          "data": {
            "application/vnd.jupyter.widget-view+json": {
              "model_id": "6a3cb1046029453597b9d7152972b2c2",
              "version_minor": 0,
              "version_major": 2
            },
            "text/plain": [
              "  0%|          | 0/5 [00:00<?, ?it/s]"
            ]
          },
          "metadata": {}
        },
        {
          "output_type": "display_data",
          "data": {
            "application/vnd.jupyter.widget-view+json": {
              "model_id": "81dad6bb64bc411cb99d6c9541c685e5",
              "version_minor": 0,
              "version_major": 2
            },
            "text/plain": [
              "  0%|          | 0/5 [00:00<?, ?it/s]"
            ]
          },
          "metadata": {}
        },
        {
          "output_type": "stream",
          "name": "stdout",
          "text": [
            "No-Show | Scholarship=T \n",
            " +------------+----------------+\n",
            "| No-Show    |   phi(No-Show) |\n",
            "+============+================+\n",
            "| No-Show(T) |         0.2905 |\n",
            "+------------+----------------+\n",
            "| No-Show(F) |         0.7095 |\n",
            "+------------+----------------+\n"
          ]
        },
        {
          "output_type": "display_data",
          "data": {
            "application/vnd.jupyter.widget-view+json": {
              "model_id": "817839a56e9249118f71bcf626970c9f",
              "version_minor": 0,
              "version_major": 2
            },
            "text/plain": [
              "  0%|          | 0/5 [00:00<?, ?it/s]"
            ]
          },
          "metadata": {}
        },
        {
          "output_type": "display_data",
          "data": {
            "application/vnd.jupyter.widget-view+json": {
              "model_id": "02c199a7ccc14fdc85b618744410c0cc",
              "version_minor": 0,
              "version_major": 2
            },
            "text/plain": [
              "  0%|          | 0/5 [00:00<?, ?it/s]"
            ]
          },
          "metadata": {}
        },
        {
          "output_type": "stream",
          "name": "stdout",
          "text": [
            "No-Show | Scholarship=F \n",
            " +------------+----------------+\n",
            "| No-Show    |   phi(No-Show) |\n",
            "+============+================+\n",
            "| No-Show(T) |         0.3419 |\n",
            "+------------+----------------+\n",
            "| No-Show(F) |         0.6581 |\n",
            "+------------+----------------+\n"
          ]
        }
      ]
    },
    {
      "cell_type": "markdown",
      "source": [
        "An equally interesting problem is computing the conditional probability with given evidence. We can compute the probability by performing the above variable elimination algorithm once on the joint distribution, and once on the probability of the variable itself. As shown by our particular example, the conditional probability of No-Show given a student has received a scholarship is 0.2905 which is smaller than the probability of no-show given a student did not receive a scholarship. This result is consistent with the general observation made earlier. Hence, our network has correctly incorporated the knowledge given earlier. "
      ],
      "metadata": {
        "id": "sM5WWKZSNsCc"
      }
    },
    {
      "cell_type": "markdown",
      "source": [
        "2.2 Model Evaluation\n",
        "\n",
        "For simplicity reasons, we will limit the set of nodes and values specified above. The limitation in variable range poses limitations to our network. For instance, there is no representation of no-shows likelihood for other types of appointments like writing center meetings. Another limitation is the lack of differentiation, for example between full or half scholarship recipients, and the model assumes there is no difference in commitment likelihood between students who schedule their tests a week earlier and those who schedule 4 days earlier."
      ],
      "metadata": {
        "id": "DHdRSUTIk0ZO"
      }
    },
    {
      "cell_type": "markdown",
      "source": [
        "## 3. Parameter Learning in BN"
      ],
      "metadata": {
        "id": "FY4Y5rfzwb-p"
      }
    },
    {
      "cell_type": "markdown",
      "source": [
        "As described above, the Bayesian network has two components: the graph structure and the conditional probability distribution associated with each node. This property poses an opportunity for parameter learning, where the structure of the network is given and we want to estimate the factors.\n",
        "\n",
        "The objective of the learning task is to find the model that best captures the underlying distribution of the true model. In this case, instead of the true CPD table definition, we first sample some data from the no-show model, then try to estimate the underlying distribution from the data points."
      ],
      "metadata": {
        "id": "w9S8xxwwR7dN"
      }
    },
    {
      "cell_type": "markdown",
      "source": [
        "We use the sampling method to generate our data set. The sampling process basically involves the algorithms creating random events, where hopefully the result will screw towards the value category that has the highest possibility. Using the sampling method, we are able to generate 1,000,000 data points."
      ],
      "metadata": {
        "id": "Fc3BSJ8_oyj8"
      }
    },
    {
      "cell_type": "code",
      "source": [
        "# Step 1: Generate data points\n",
        "\n",
        "# use the no-show model to generate data from it\n",
        "\n",
        "from pgmpy.sampling import BayesianModelSampling\n",
        "\n",
        "samples = BayesianModelSampling(noshow_model).forward_sample(size=int(1e6))\n",
        "samples.head()"
      ],
      "metadata": {
        "colab": {
          "base_uri": "https://localhost:8080/",
          "height": 238,
          "referenced_widgets": [
            "846a81d0a50342cf96ceecd2b0fe4397",
            "8cd9d907e39a4cb9811941b9893106a6",
            "b5996dcc03f4409aae68cb4f67a147e9",
            "c544a671d0064c7985c89b19a091de14",
            "ecf95dcc18634ec6b8c8e390998d41bc",
            "854a55c0c3a243aa8bc5b247b840e68f",
            "1463338537544cc08b8f738ea9ed1d09",
            "076d153e3d084642b50f1074f79c4eed",
            "1b3adc9c31a84d6abf31359ade6fee7d",
            "170128fff5e64fa28cd2ff2cb953a2a6",
            "5e0474a7dcad4838a736c9e56e02b481"
          ]
        },
        "id": "bIad4hvUwhGc",
        "outputId": "fa98ad91-383b-4544-fa54-3330da137a9b"
      },
      "execution_count": null,
      "outputs": [
        {
          "output_type": "display_data",
          "data": {
            "application/vnd.jupyter.widget-view+json": {
              "model_id": "846a81d0a50342cf96ceecd2b0fe4397",
              "version_minor": 0,
              "version_major": 2
            },
            "text/plain": [
              "  0%|          | 0/7 [00:00<?, ?it/s]"
            ]
          },
          "metadata": {}
        },
        {
          "output_type": "execute_result",
          "data": {
            "text/html": [
              "\n",
              "  <div id=\"df-f73f61e0-c7af-4837-9e0f-8fdbd2d19a17\">\n",
              "    <div class=\"colab-df-container\">\n",
              "      <div>\n",
              "<style scoped>\n",
              "    .dataframe tbody tr th:only-of-type {\n",
              "        vertical-align: middle;\n",
              "    }\n",
              "\n",
              "    .dataframe tbody tr th {\n",
              "        vertical-align: top;\n",
              "    }\n",
              "\n",
              "    .dataframe thead th {\n",
              "        text-align: right;\n",
              "    }\n",
              "</style>\n",
              "<table border=\"1\" class=\"dataframe\">\n",
              "  <thead>\n",
              "    <tr style=\"text-align: right;\">\n",
              "      <th></th>\n",
              "      <th>Scholarship</th>\n",
              "      <th>Punctuality</th>\n",
              "      <th>On campus</th>\n",
              "      <th>No-Show</th>\n",
              "      <th>Athelet</th>\n",
              "      <th>Day difference</th>\n",
              "      <th>Prior appointment</th>\n",
              "    </tr>\n",
              "  </thead>\n",
              "  <tbody>\n",
              "    <tr>\n",
              "      <th>0</th>\n",
              "      <td>T</td>\n",
              "      <td>F</td>\n",
              "      <td>T</td>\n",
              "      <td>F</td>\n",
              "      <td>F</td>\n",
              "      <td>2 days</td>\n",
              "      <td>5+ times</td>\n",
              "    </tr>\n",
              "    <tr>\n",
              "      <th>1</th>\n",
              "      <td>T</td>\n",
              "      <td>T</td>\n",
              "      <td>T</td>\n",
              "      <td>T</td>\n",
              "      <td>F</td>\n",
              "      <td>1 day</td>\n",
              "      <td>0-5 times</td>\n",
              "    </tr>\n",
              "    <tr>\n",
              "      <th>2</th>\n",
              "      <td>F</td>\n",
              "      <td>F</td>\n",
              "      <td>T</td>\n",
              "      <td>F</td>\n",
              "      <td>F</td>\n",
              "      <td>1 day</td>\n",
              "      <td>0-5 times</td>\n",
              "    </tr>\n",
              "    <tr>\n",
              "      <th>3</th>\n",
              "      <td>T</td>\n",
              "      <td>F</td>\n",
              "      <td>T</td>\n",
              "      <td>F</td>\n",
              "      <td>F</td>\n",
              "      <td>3+ days</td>\n",
              "      <td>0-5 times</td>\n",
              "    </tr>\n",
              "    <tr>\n",
              "      <th>4</th>\n",
              "      <td>F</td>\n",
              "      <td>F</td>\n",
              "      <td>T</td>\n",
              "      <td>T</td>\n",
              "      <td>T</td>\n",
              "      <td>1 day</td>\n",
              "      <td>0-5 times</td>\n",
              "    </tr>\n",
              "  </tbody>\n",
              "</table>\n",
              "</div>\n",
              "      <button class=\"colab-df-convert\" onclick=\"convertToInteractive('df-f73f61e0-c7af-4837-9e0f-8fdbd2d19a17')\"\n",
              "              title=\"Convert this dataframe to an interactive table.\"\n",
              "              style=\"display:none;\">\n",
              "        \n",
              "  <svg xmlns=\"http://www.w3.org/2000/svg\" height=\"24px\"viewBox=\"0 0 24 24\"\n",
              "       width=\"24px\">\n",
              "    <path d=\"M0 0h24v24H0V0z\" fill=\"none\"/>\n",
              "    <path d=\"M18.56 5.44l.94 2.06.94-2.06 2.06-.94-2.06-.94-.94-2.06-.94 2.06-2.06.94zm-11 1L8.5 8.5l.94-2.06 2.06-.94-2.06-.94L8.5 2.5l-.94 2.06-2.06.94zm10 10l.94 2.06.94-2.06 2.06-.94-2.06-.94-.94-2.06-.94 2.06-2.06.94z\"/><path d=\"M17.41 7.96l-1.37-1.37c-.4-.4-.92-.59-1.43-.59-.52 0-1.04.2-1.43.59L10.3 9.45l-7.72 7.72c-.78.78-.78 2.05 0 2.83L4 21.41c.39.39.9.59 1.41.59.51 0 1.02-.2 1.41-.59l7.78-7.78 2.81-2.81c.8-.78.8-2.07 0-2.86zM5.41 20L4 18.59l7.72-7.72 1.47 1.35L5.41 20z\"/>\n",
              "  </svg>\n",
              "      </button>\n",
              "      \n",
              "  <style>\n",
              "    .colab-df-container {\n",
              "      display:flex;\n",
              "      flex-wrap:wrap;\n",
              "      gap: 12px;\n",
              "    }\n",
              "\n",
              "    .colab-df-convert {\n",
              "      background-color: #E8F0FE;\n",
              "      border: none;\n",
              "      border-radius: 50%;\n",
              "      cursor: pointer;\n",
              "      display: none;\n",
              "      fill: #1967D2;\n",
              "      height: 32px;\n",
              "      padding: 0 0 0 0;\n",
              "      width: 32px;\n",
              "    }\n",
              "\n",
              "    .colab-df-convert:hover {\n",
              "      background-color: #E2EBFA;\n",
              "      box-shadow: 0px 1px 2px rgba(60, 64, 67, 0.3), 0px 1px 3px 1px rgba(60, 64, 67, 0.15);\n",
              "      fill: #174EA6;\n",
              "    }\n",
              "\n",
              "    [theme=dark] .colab-df-convert {\n",
              "      background-color: #3B4455;\n",
              "      fill: #D2E3FC;\n",
              "    }\n",
              "\n",
              "    [theme=dark] .colab-df-convert:hover {\n",
              "      background-color: #434B5C;\n",
              "      box-shadow: 0px 1px 3px 1px rgba(0, 0, 0, 0.15);\n",
              "      filter: drop-shadow(0px 1px 2px rgba(0, 0, 0, 0.3));\n",
              "      fill: #FFFFFF;\n",
              "    }\n",
              "  </style>\n",
              "\n",
              "      <script>\n",
              "        const buttonEl =\n",
              "          document.querySelector('#df-f73f61e0-c7af-4837-9e0f-8fdbd2d19a17 button.colab-df-convert');\n",
              "        buttonEl.style.display =\n",
              "          google.colab.kernel.accessAllowed ? 'block' : 'none';\n",
              "\n",
              "        async function convertToInteractive(key) {\n",
              "          const element = document.querySelector('#df-f73f61e0-c7af-4837-9e0f-8fdbd2d19a17');\n",
              "          const dataTable =\n",
              "            await google.colab.kernel.invokeFunction('convertToInteractive',\n",
              "                                                     [key], {});\n",
              "          if (!dataTable) return;\n",
              "\n",
              "          const docLinkHtml = 'Like what you see? Visit the ' +\n",
              "            '<a target=\"_blank\" href=https://colab.research.google.com/notebooks/data_table.ipynb>data table notebook</a>'\n",
              "            + ' to learn more about interactive tables.';\n",
              "          element.innerHTML = '';\n",
              "          dataTable['output_type'] = 'display_data';\n",
              "          await google.colab.output.renderOutput(dataTable, element);\n",
              "          const docLink = document.createElement('div');\n",
              "          docLink.innerHTML = docLinkHtml;\n",
              "          element.appendChild(docLink);\n",
              "        }\n",
              "      </script>\n",
              "    </div>\n",
              "  </div>\n",
              "  "
            ],
            "text/plain": [
              "  Scholarship Punctuality On campus  ... Athelet Day difference Prior appointment\n",
              "0           T           F         T  ...       F         2 days          5+ times\n",
              "1           T           T         T  ...       F          1 day         0-5 times\n",
              "2           F           F         T  ...       F          1 day         0-5 times\n",
              "3           T           F         T  ...       F        3+ days         0-5 times\n",
              "4           F           F         T  ...       T          1 day         0-5 times\n",
              "\n",
              "[5 rows x 7 columns]"
            ]
          },
          "metadata": {},
          "execution_count": 47
        }
      ]
    },
    {
      "cell_type": "markdown",
      "source": [
        "Next, since in our training case, the structure of the network is defined, we copy the connections defined in the noshow_model. The 'model_struct.nodes()' method confirmed that we are operating with the same set of nodes. "
      ],
      "metadata": {
        "id": "--s-3Y-_panU"
      }
    },
    {
      "cell_type": "code",
      "source": [
        "# Step 2: Define a model structure\n",
        "\n",
        "# Defining the Bayesian Model structure\n",
        "\n",
        "from pgmpy.models import BayesianNetwork\n",
        "\n",
        "model_struct = BayesianNetwork(ebunch=noshow_model.edges())\n",
        "model_struct.nodes()"
      ],
      "metadata": {
        "colab": {
          "base_uri": "https://localhost:8080/"
        },
        "id": "YKXtbru-yMEW",
        "outputId": "2fb5ad81-71ab-47f4-80d5-e52c280a672d"
      },
      "execution_count": null,
      "outputs": [
        {
          "output_type": "execute_result",
          "data": {
            "text/plain": [
              "NodeView(('Scholarship', 'Punctuality', 'Athelet', 'No-Show', 'On campus', 'Day difference', 'Prior appointment'))"
            ]
          },
          "metadata": {},
          "execution_count": 48
        }
      ]
    },
    {
      "cell_type": "markdown",
      "source": [
        "Finally, we use the 'MaximumLikelihoodEstimator' class to estimate the full distrubution of the network so that we can later use variable elimination to calculate the conditional probability of specific nodes."
      ],
      "metadata": {
        "id": "jBuw5PCyqiS2"
      }
    },
    {
      "cell_type": "code",
      "source": [
        "# Step 3: Learning the model parameters\n",
        "\n",
        "# Fitting the model using Maximum Likelihood Estimator\n",
        "\n",
        "from pgmpy.estimators import MaximumLikelihoodEstimator\n",
        "\n",
        "estimator = MaximumLikelihoodEstimator(model=model_struct, data=samples)"
      ],
      "metadata": {
        "colab": {
          "base_uri": "https://localhost:8080/",
          "height": 391
        },
        "id": "GUEWhiPqymSS",
        "outputId": "3302ccac-cc35-444a-ffe3-a034eaaed8d8"
      },
      "execution_count": null,
      "outputs": [
        {
          "output_type": "error",
          "ename": "ModuleNotFoundError",
          "evalue": "ignored",
          "traceback": [
            "\u001b[0;31m---------------------------------------------------------------------------\u001b[0m",
            "\u001b[0;31mModuleNotFoundError\u001b[0m                       Traceback (most recent call last)",
            "\u001b[0;32m<ipython-input-1-127cfc24d683>\u001b[0m in \u001b[0;36m<module>\u001b[0;34m()\u001b[0m\n\u001b[1;32m      3\u001b[0m \u001b[0;31m# Fitting the model using Maximum Likelihood Estimator\u001b[0m\u001b[0;34m\u001b[0m\u001b[0;34m\u001b[0m\u001b[0;34m\u001b[0m\u001b[0m\n\u001b[1;32m      4\u001b[0m \u001b[0;34m\u001b[0m\u001b[0m\n\u001b[0;32m----> 5\u001b[0;31m \u001b[0;32mfrom\u001b[0m \u001b[0mpgmpy\u001b[0m\u001b[0;34m.\u001b[0m\u001b[0mestimators\u001b[0m \u001b[0;32mimport\u001b[0m \u001b[0mMaximumLikelihoodEstimator\u001b[0m\u001b[0;34m\u001b[0m\u001b[0;34m\u001b[0m\u001b[0m\n\u001b[0m\u001b[1;32m      6\u001b[0m \u001b[0;34m\u001b[0m\u001b[0m\n\u001b[1;32m      7\u001b[0m \u001b[0mestimator\u001b[0m \u001b[0;34m=\u001b[0m \u001b[0mMaximumLikelihoodEstimator\u001b[0m\u001b[0;34m(\u001b[0m\u001b[0mmodel\u001b[0m\u001b[0;34m=\u001b[0m\u001b[0mmodel_struct\u001b[0m\u001b[0;34m,\u001b[0m \u001b[0mdata\u001b[0m\u001b[0;34m=\u001b[0m\u001b[0msamples\u001b[0m\u001b[0;34m)\u001b[0m\u001b[0;34m\u001b[0m\u001b[0;34m\u001b[0m\u001b[0m\n",
            "\u001b[0;31mModuleNotFoundError\u001b[0m: No module named 'pgmpy'",
            "",
            "\u001b[0;31m---------------------------------------------------------------------------\u001b[0;32m\nNOTE: If your import is failing due to a missing package, you can\nmanually install dependencies using either !pip or !apt.\n\nTo view examples of installing some common dependencies, click the\n\"Open Examples\" button below.\n\u001b[0;31m---------------------------------------------------------------------------\u001b[0m\n"
          ],
          "errorDetails": {
            "actions": [
              {
                "action": "open_url",
                "actionText": "Open Examples",
                "url": "/notebooks/snippets/importing_libraries.ipynb"
              }
            ]
          }
        }
      ]
    },
    {
      "cell_type": "code",
      "source": [
        "# Step 4: Model evaluation\n",
        "\n",
        "# Calculate mean error\n",
        "import pandas as pd\n",
        "(noshow_model.get_cpds(\"No-Show\").values - estimator.estimate_cpd(\"No-Show\").values).mean()"
      ],
      "metadata": {
        "colab": {
          "base_uri": "https://localhost:8080/"
        },
        "id": "lTFxM9crHN8U",
        "outputId": "762bc489-a1f8-47cb-a787-0854a6840fbb"
      },
      "execution_count": null,
      "outputs": [
        {
          "output_type": "execute_result",
          "data": {
            "text/plain": [
              "0.6002315708220763"
            ]
          },
          "metadata": {},
          "execution_count": 90
        }
      ]
    },
    {
      "cell_type": "markdown",
      "source": [
        "With the maximum likelihood in hand, we can compare the estimated distribution at our target node \"No-Show\" with the actual value we put in ealier. The mean error is around 0.6 or 60%, which is pretty high considering the maximum discrepency is 100%. This error value can be caused by several reasons, one of them is the structure of the model. Close inspection of the predicted value shows that the estimator assign very high weights for specific value pairs, which can be a sign of **overfitting**. Since, the structure of the model is fairly linear, nodes such as \"Scholarship\" will have stronger predictive power than other nodes, which can explain why the estimator switch between large and small weights whenever the value of scholarship change between 'T' and 'F'."
      ],
      "metadata": {
        "id": "gMlBv0JHwrio"
      }
    },
    {
      "cell_type": "markdown",
      "source": [
        "## 4. Summary\n",
        "\n",
        "In this mini-project, we have applied probabilistic graphical model - specifically Baysian networks - to model the no-show likelyhood. By taking advantage of the pgmpy library, a series of model related tasks are performed: including independencies, probability query, conditional probability query, and model parameter learning. Specifically, we can oberve that our model performed well in independecy and conditional probability queries, where we are able to get an exact answer or inference. The error increased greatly, however, when it comes to the learning task which is probably due to the structure of the model. Through learning the methods and applications of Probabilistic Graphical Models over this semster, I realized its tremendous real-world implecations and hope to explore more details methods and tasks in the future."
      ],
      "metadata": {
        "id": "I4lDxf8lsJ5x"
      }
    },
    {
      "cell_type": "markdown",
      "source": [
        "## 5. Citation\n",
        "[1]. A. Ankan and A. Panda, “Pgmpy: Probabilistic graphical models using Python,”\n",
        "\n",
        "[2]. Proceedings of the 14th Python in Science Conference, 2015. \n",
        "D. Koller and N. Friedman, Probabilistic graphical models principles and Techniques. MIT Press, 2012. \n",
        "\n",
        "[3]. J. Brownlee, “A gentle introduction to Bayesian Belief Networks,” Machine Learning Mastery, 24-Sep-2019. [Online]. Available: https://machinelearningmastery.com/introduction-to-bayesian-belief-networks/. [Accessed: 07-Feb-2022]. \n",
        "\n",
        "[4]. V. Kuleshov and S. Ermon, “CS228,” ermongroup. [Online]. Available: https://ermongroup.github.io/cs228-notes/. [Accessed: 07-Feb-2022]. "
      ],
      "metadata": {
        "id": "KWSjjTOSg3gj"
      }
    }
  ]
}